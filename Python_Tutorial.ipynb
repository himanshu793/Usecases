{
 "cells": [
  {
   "cell_type": "markdown",
   "metadata": {},
   "source": [
    "# Python Data Analysis Session\n",
    "This notebook provides a comprehensive introduction to basic Python features and functions, with a focus on data analysis. We'll cover three of the most widely used libraries for data analysis:\n",
    "\n",
    "- [NumPy](https://numpy.org/)\n",
    "- [Pandas](https://pandas.pydata.org/)\n",
    "- [Matplotlib](https://matplotlib.org/)\n",
    "\n",
    "## Table of Contents\n",
    "1. [Basic Python](#basic_python)\n",
    "   - 1.1 [Python Data Types](#python_data_types)\n",
    "   - 1.2 [Variables](#variables)\n",
    "   - 1.3 [Data Structures](#data_structures)\n",
    "   - 1.4 [Control Flow](#control_flow)\n",
    "   - 1.5 [Functions](#functions)\n",
    "2. [NumPy](#numpy)\n",
    "   - 2.1 [Introduction to NumPy Arrays](#numpy_arrays)\n",
    "   - 2.2 [Array Creation](#array_creation)\n",
    "   - 2.3 [Indexing and Slicing](#indexing_slicing)\n",
    "   - 2.4 [Array Operations](#array_ops)\n",
    "   - 2.5 [Statistical Methods and Random Sampling](#stats_random)\n",
    "3. [Pandas](#pandas)\n",
    "   - 3.1 [Series](#series)\n",
    "   - 3.2 [DataFrames](#dataframes)\n",
    "   - 3.3 [Importing and Exporting Data](#io)\n",
    "   - 3.4 [Data Selection and Filtering](#data_selection)\n",
    "   - 3.5 [Handling Missing Data](#missing_data)\n",
    "   - 3.6 [Grouping and Aggregation](#groupby)\n",
    "   - 3.7 [Merging, Joining, and Concatenating](#merging)\n",
    "4. [Matplotlib](#matplotlib)\n",
    "   - 4.1 [Basic Plotting](#basic_plot)\n",
    "   - 4.2 [Customizing Plots](#customize_plot)\n",
    "   - 4.3 [Multiple Plots](#multiple_plots)\n",
    "5. [Integrated Data Analysis Example](#analysis_example)\n",
    "   - 5.1 [Loading Data](#loading_data)\n",
    "   - 5.2 [Exploratory Data Analysis](#exploratory_da)\n",
    "   - 5.3 [Data Cleaning](#data_cleaning)\n",
    "   - 5.4 [Visualization](#visualization)\n",
    "   - 5.5 [Conclusion](#conclusion)\n"
   ]
  },
  {
   "cell_type": "markdown",
   "metadata": {},
   "source": [
    "<a id='basic_python'></a>\n",
    "# 1. Basic Python"
   ]
  },
  {
   "cell_type": "code",
   "execution_count": 1,
   "metadata": {},
   "outputs": [
    {
     "name": "stdout",
     "output_type": "stream",
     "text": [
      "Welcome to the Python Data Analysis Tutorial!\n"
     ]
    }
   ],
   "source": [
    "# Let's print a welcome message to start off.\n",
    "print(\"Welcome to the Python Data Analysis Tutorial!\")\n"
   ]
  },
  {
   "cell_type": "markdown",
   "metadata": {},
   "source": [
    "## 1.1 Python Data Types <a id='python_data_types'></a>\n",
    "\n",
    "Common built-in data types in Python:\n",
    "\n",
    "- **int**: integers (e.g., 1, 2, 3, -5)\n",
    "- **float**: floating-point numbers (e.g., 3.14, -2.7)\n",
    "- **bool**: boolean (True or False)\n",
    "- **str**: strings (e.g., \"hello\")\n",
    "- **NoneType**: represents no value or a null value (`None`)\n",
    "\n",
    "Check the type of any object using `type()`:\n",
    "\"\""
   ]
  },
  {
   "cell_type": "code",
   "execution_count": 2,
   "metadata": {},
   "outputs": [
    {
     "name": "stdout",
     "output_type": "stream",
     "text": [
      "x = 10 - type: <class 'int'>\n",
      "y = 3.14 - type: <class 'float'>\n",
      "z = True - type: <class 'bool'>\n",
      "s = Hello, World! - type: <class 'str'>\n",
      "n = None - type: <class 'NoneType'>\n"
     ]
    }
   ],
   "source": [
    "x = 10\n",
    "y = 3.14\n",
    "z = True\n",
    "s = \"Hello, World!\"\n",
    "n = None\n",
    "\n",
    "print(\"x =\", x, \"- type:\", type(x))\n",
    "print(\"y =\", y, \"- type:\", type(y))\n",
    "print(\"z =\", z, \"- type:\", type(z))\n",
    "print(\"s =\", s, \"- type:\", type(s))\n",
    "print(\"n =\", n, \"- type:\", type(n))\n"
   ]
  },
  {
   "cell_type": "markdown",
   "metadata": {},
   "source": [
    "## 1.2 Variables <a id='variables'></a>\n",
    "\n",
    "- Variables store information in Python.\n",
    "- They can be named using letters, digits, and underscores, but cannot start with a digit.\n",
    "- Assign values using the `=` operator.\n",
    "\n",
    "**Example**:\n",
    "```python\n",
    "my_var = 100\n"
   ]
  },
  {
   "cell_type": "code",
   "execution_count": 3,
   "metadata": {},
   "outputs": [
    {
     "name": "stdout",
     "output_type": "stream",
     "text": [
      "my_var = 100\n",
      "my_var after addition = 150\n"
     ]
    }
   ],
   "source": [
    "my_var = 100\n",
    "print(\"my_var =\", my_var)\n",
    "my_var = my_var + 50  # reassign\n",
    "print(\"my_var after addition =\", my_var)\n"
   ]
  },
  {
   "cell_type": "markdown",
   "metadata": {},
   "source": [
    "## 1.3 Data Structures <a id='data_structures'></a>\n",
    "\n",
    "### Lists\n",
    "- Ordered, mutable collections of objects.\n",
    "- Created using square brackets `[]`.\n",
    "- Elements can be accessed via zero-based index.\n"
   ]
  },
  {
   "cell_type": "code",
   "execution_count": 4,
   "metadata": {},
   "outputs": [
    {
     "name": "stdout",
     "output_type": "stream",
     "text": [
      "List: [1, 2, 3, 'a', 'b', True]\n",
      "Element at index 0: 1\n",
      "Modified List: [100, 2, 3, 'a', 'b', True]\n"
     ]
    }
   ],
   "source": [
    "my_list = [1, 2, 3, \"a\", \"b\", True]\n",
    "print(\"List:\", my_list)\n",
    "print(\"Element at index 0:\", my_list[0])\n",
    "\n",
    "# Modifying a list\n",
    "my_list[0] = 100\n",
    "print(\"Modified List:\", my_list)\n"
   ]
  },
  {
   "cell_type": "markdown",
   "metadata": {},
   "source": [
    "### Tuples\n",
    "- Ordered, **immutable** collections of objects.\n",
    "- Created using parentheses `()`.\n"
   ]
  },
  {
   "cell_type": "code",
   "execution_count": 5,
   "metadata": {},
   "outputs": [
    {
     "name": "stdout",
     "output_type": "stream",
     "text": [
      "Tuple: (1, 2, 3, 'x', 'y')\n",
      "Element at index 3: x\n"
     ]
    }
   ],
   "source": [
    "my_tuple = (1, 2, 3, \"x\", \"y\")\n",
    "print(\"Tuple:\", my_tuple)\n",
    "print(\"Element at index 3:\", my_tuple[3])\n",
    "\n",
    "# Attempting to modify will produce an error\n",
    "# my_tuple[0] = 10  # Uncomment to see the error\n"
   ]
  },
  {
   "cell_type": "markdown",
   "metadata": {},
   "source": [
    "### Dictionaries\n",
    "- Unordered, mutable collections of key-value pairs.\n",
    "- Created using braces `{}`.\n",
    "- Keys must be immutable (e.g., strings, ints, tuples), and typically unique.\n"
   ]
  },
  {
   "cell_type": "code",
   "execution_count": 6,
   "metadata": {},
   "outputs": [
    {
     "name": "stdout",
     "output_type": "stream",
     "text": [
      "Dictionary: {'name': 'John', 'age': 30, 'city': 'New York'}\n",
      "Access value by key: John\n",
      "Updated Dictionary: {'name': 'John', 'age': 30, 'city': 'New York', 'email': 'john@example.com'}\n"
     ]
    }
   ],
   "source": [
    "my_dict = {\"name\": \"John\", \"age\": 30, \"city\": \"New York\"}\n",
    "print(\"Dictionary:\", my_dict)\n",
    "print(\"Access value by key:\", my_dict[\"name\"])\n",
    "\n",
    "# Adding a new key-value pair\n",
    "my_dict[\"email\"] = \"john@example.com\"\n",
    "print(\"Updated Dictionary:\", my_dict)\n"
   ]
  },
  {
   "cell_type": "markdown",
   "metadata": {},
   "source": [
    "### Sets\n",
    "- Unordered, mutable collections of unique elements.\n",
    "- Created using curly braces `{}` or the `set()` function.\n"
   ]
  },
  {
   "cell_type": "code",
   "execution_count": 7,
   "metadata": {},
   "outputs": [
    {
     "name": "stdout",
     "output_type": "stream",
     "text": [
      "Set: {1, 2, 3}\n",
      "After adding 4: {1, 2, 3, 4}\n"
     ]
    }
   ],
   "source": [
    "my_set = {1, 2, 3, 3, 2, 1}\n",
    "print(\"Set:\", my_set)  # Duplicates automatically removed\n",
    "\n",
    "my_set.add(4)\n",
    "print(\"After adding 4:\", my_set)\n"
   ]
  },
  {
   "cell_type": "markdown",
   "metadata": {},
   "source": [
    "## 1.4 Control Flow <a id='control_flow'></a>\n",
    "\n",
    "### If, Elif, Else\n",
    "\n",
    "```python\n",
    "if condition:\n",
    "    # code block\n",
    "elif condition:\n",
    "    # code block\n",
    "else:\n",
    "    # code block\n",
    "\n"
   ]
  },
  {
   "cell_type": "markdown",
   "metadata": {},
   "source": [
    "#### For & While Loop\n",
    "```python\n",
    "for item in iterable:\n",
    "    # code block\n",
    "\n",
    "while condition:\n",
    "    # code block\n"
   ]
  },
  {
   "cell_type": "code",
   "execution_count": 12,
   "metadata": {},
   "outputs": [
    {
     "name": "stdout",
     "output_type": "stream",
     "text": [
      "x is positive\n"
     ]
    }
   ],
   "source": [
    "x = 10\n",
    "if x < 0:\n",
    "    print(\"x is negative\")\n",
    "elif x == 0:\n",
    "    print(\"x is zero\")\n",
    "else:\n",
    "    print(\"x is positive\")\n",
    "\n",
    "\n"
   ]
  },
  {
   "cell_type": "code",
   "execution_count": 13,
   "metadata": {},
   "outputs": [
    {
     "name": "stdout",
     "output_type": "stream",
     "text": [
      "Number: 1\n",
      "Number: 2\n",
      "Number: 3\n",
      "Number: 4\n",
      "Number: 5\n"
     ]
    }
   ],
   "source": [
    "# FOR Loop\n",
    "numbers = [1, 2, 3, 4, 5]\n",
    "for num in numbers:\n",
    "    print(\"Number:\", num)\n",
    "\n"
   ]
  },
  {
   "cell_type": "code",
   "execution_count": 14,
   "metadata": {},
   "outputs": [
    {
     "name": "stdout",
     "output_type": "stream",
     "text": [
      "Count is: 0\n",
      "Count is: 1\n",
      "Count is: 2\n"
     ]
    }
   ],
   "source": [
    "# WHILE Loop\n",
    "count = 0\n",
    "while count < 3:\n",
    "    print(\"Count is:\", count)\n",
    "    count += 1"
   ]
  },
  {
   "cell_type": "markdown",
   "metadata": {},
   "source": [
    "## 1.5 Functions <a id='functions'></a>\n",
    "\n",
    "- Functions are defined using the `def` keyword.\n",
    "- They help organize code for reuse and readability.\n",
    "\n",
    "**Syntax**:\n",
    "```python\n",
    "def function_name(parameters):\n",
    "    # code block\n",
    "    return output\n"
   ]
  },
  {
   "cell_type": "code",
   "execution_count": 15,
   "metadata": {},
   "outputs": [
    {
     "name": "stdout",
     "output_type": "stream",
     "text": [
      "Hello, Alice!\n"
     ]
    }
   ],
   "source": [
    "def greet(name):\n",
    "    \"\"\"Returns a greeting for the given name.\"\"\"\n",
    "    return f\"Hello, {name}!\"\n",
    "\n",
    "# Calling the function\n",
    "message = greet(\"Alice\")\n",
    "print(message)"
   ]
  },
  {
   "cell_type": "markdown",
   "metadata": {},
   "source": [
    "<a id='numpy'></a>\n",
    "# 2. NumPy\n",
    "NumPy is a fundamental library for scientific computing in Python, offering powerful array objects and routines for fast mathematical operations.\n",
    "\n",
    "Let's begin by importing NumPy (usually imported as `np`).\n",
    "\n"
   ]
  },
  {
   "cell_type": "code",
   "execution_count": 16,
   "metadata": {},
   "outputs": [
    {
     "name": "stdout",
     "output_type": "stream",
     "text": [
      "NumPy version: 1.24.3\n"
     ]
    }
   ],
   "source": [
    "import numpy as np\n",
    "print(\"NumPy version:\", np.__version__)\n"
   ]
  },
  {
   "cell_type": "markdown",
   "metadata": {},
   "source": [
    "<a id='numpy_arrays'></a>\n",
    "## 2.1 Introduction to NumPy Arrays\n",
    "\n",
    "NumPy arrays (`ndarray`) are:\n",
    "- Homogeneous: all elements must be of the same type.\n",
    "- Multi-dimensional: can have 1D, 2D, 3D (or more) dimensions.\n",
    "- Offer vectorized operations, which are much faster than pure Python loops.\n"
   ]
  },
  {
   "cell_type": "code",
   "execution_count": 17,
   "metadata": {},
   "outputs": [
    {
     "name": "stdout",
     "output_type": "stream",
     "text": [
      "1D array: [1 2 3 4 5]\n",
      "Shape: (5,)\n",
      "Data type: int32\n",
      "\n",
      "2D array:\n",
      " [[1 2 3]\n",
      " [4 5 6]]\n",
      "Shape: (2, 3)\n",
      "Data type: int32\n"
     ]
    }
   ],
   "source": [
    "# Creating a 1D array (vector)\n",
    "arr_1d = np.array([1, 2, 3, 4, 5])\n",
    "print(\"1D array:\", arr_1d)\n",
    "print(\"Shape:\", arr_1d.shape)\n",
    "print(\"Data type:\", arr_1d.dtype)\n",
    "\n",
    "# Creating a 2D array (matrix)\n",
    "arr_2d = np.array([[1, 2, 3], [4, 5, 6]])\n",
    "print(\"\\n2D array:\\n\", arr_2d)\n",
    "print(\"Shape:\", arr_2d.shape)\n",
    "print(\"Data type:\", arr_2d.dtype)\n"
   ]
  },
  {
   "cell_type": "markdown",
   "metadata": {},
   "source": [
    "<a id='array_creation'></a>\n",
    "## 2.2 Array Creation\n",
    "\n",
    "NumPy provides many methods for creating arrays quickly.\n",
    "\n",
    "- `np.zeros(shape)`: create array of zeros\n",
    "- `np.ones(shape)`: create array of ones\n",
    "- `np.full(shape, value)`: create array filled with a specific value\n",
    "- `np.arange(start, stop, step)`: create array of evenly spaced values\n",
    "- `np.linspace(start, stop, num)`: create array of `num` evenly spaced values between start and stop\n"
   ]
  },
  {
   "cell_type": "code",
   "execution_count": 18,
   "metadata": {},
   "outputs": [
    {
     "name": "stdout",
     "output_type": "stream",
     "text": [
      "zero_arr:\n",
      " [[0. 0. 0.]\n",
      " [0. 0. 0.]]\n",
      "\n",
      "ones_arr:\n",
      " [[1. 1. 1.]\n",
      " [1. 1. 1.]]\n",
      "\n",
      "full_arr:\n",
      " [[7 7 7]\n",
      " [7 7 7]]\n",
      "\n",
      "range_arr: [0 2 4 6 8]\n",
      "\n",
      "lin_arr: [0.   0.25 0.5  0.75 1.  ]\n"
     ]
    }
   ],
   "source": [
    "# Zeros\n",
    "zero_arr = np.zeros((2, 3))\n",
    "print(\"zero_arr:\\n\", zero_arr)\n",
    "\n",
    "# Ones\n",
    "ones_arr = np.ones((2, 3))\n",
    "print(\"\\nones_arr:\\n\", ones_arr)\n",
    "\n",
    "# Full\n",
    "full_arr = np.full((2, 3), 7)\n",
    "print(\"\\nfull_arr:\\n\", full_arr)\n",
    "\n",
    "# Arange\n",
    "range_arr = np.arange(0, 10, 2)\n",
    "print(\"\\nrange_arr:\", range_arr)\n",
    "\n",
    "# Linspace\n",
    "lin_arr = np.linspace(0, 1, 5)\n",
    "print(\"\\nlin_arr:\", lin_arr)\n"
   ]
  },
  {
   "cell_type": "markdown",
   "metadata": {},
   "source": [
    "<a id='indexing_slicing'></a>\n",
    "## 2.3 Indexing and Slicing\n",
    "\n",
    "NumPy arrays can be **indexed** and **sliced** similarly to Python lists, but with more powerful multi-dimensional operations.\n",
    "\n",
    "General slicing syntax for a 1D array:\n",
    "\n",
    "arr[start:end:step].\n",
    "\n",
    "For a 2D array, slicing is done per dimension:.\n",
    "\n",
    "arr[row_start:row_end, col_start:col_end]"
   ]
  },
  {
   "cell_type": "code",
   "execution_count": 20,
   "metadata": {},
   "outputs": [
    {
     "name": "stdout",
     "output_type": "stream",
     "text": [
      "Original array: [10 20 30 40 50 60]\n",
      "Slice of arr (1:4): [20 30 40]\n",
      "\n",
      "2D array:\n",
      " [[1 2 3]\n",
      " [4 5 6]\n",
      " [7 8 9]]\n",
      "\n",
      "Sliced sub-matrix:\n",
      " [[2 3]\n",
      " [5 6]]\n"
     ]
    }
   ],
   "source": [
    "arr = np.array([10, 20, 30, 40, 50, 60])\n",
    "print(\"Original array:\", arr)\n",
    "\n",
    "# 1D slicing\n",
    "slice_ = arr[1:4]\n",
    "print(\"Slice of arr (1:4):\", slice_)\n",
    "\n",
    "# 2D slicing\n",
    "arr_2d = np.array([\n",
    "    [1, 2, 3],\n",
    "    [4, 5, 6],\n",
    "    [7, 8, 9]\n",
    "])\n",
    "print(\"\\n2D array:\\n\", arr_2d)\n",
    "\n",
    "# Slicing rows 0-2 (exclusive of 2), columns 1-3\n",
    "sub_matrix = arr_2d[0:2, 1:3]\n",
    "print(\"\\nSliced sub-matrix:\\n\", sub_matrix)\n"
   ]
  },
  {
   "cell_type": "markdown",
   "metadata": {},
   "source": [
    "<a id='array_ops'></a>\n",
    "## 2.4 Array Operations\n",
    "\n",
    "NumPy supports vectorized operations (element-wise addition, subtraction, multiplication, division, etc.) and matrix operations.\n",
    "\n"
   ]
  },
  {
   "cell_type": "code",
   "execution_count": 21,
   "metadata": {},
   "outputs": [
    {
     "name": "stdout",
     "output_type": "stream",
     "text": [
      "Addition: [11 22 33]\n",
      "Subtraction: [ 9 18 27]\n",
      "Multiplication: [10 40 90]\n",
      "Division: [10. 10. 10.]\n",
      "\n",
      "Matrix:\n",
      " [[1 2 3]\n",
      " [4 5 6]]\n",
      "Broadcasted addition with [1,1,1]:\n",
      " [[2 3 4]\n",
      " [5 6 7]]\n"
     ]
    }
   ],
   "source": [
    "arr1 = np.array([1, 2, 3])\n",
    "arr2 = np.array([10, 20, 30])\n",
    "\n",
    "# Element-wise operations\n",
    "print(\"Addition:\", arr1 + arr2)\n",
    "print(\"Subtraction:\", arr2 - arr1)\n",
    "print(\"Multiplication:\", arr1 * arr2)\n",
    "print(\"Division:\", arr2 / arr1)\n",
    "\n",
    "# Broadcasting example\n",
    "mat = np.array([[1, 2, 3], [4, 5, 6]])\n",
    "print(\"\\nMatrix:\\n\", mat)\n",
    "print(\"Broadcasted addition with [1,1,1]:\\n\", mat + np.array([1,1,1]))\n"
   ]
  },
  {
   "cell_type": "markdown",
   "metadata": {},
   "source": [
    "<a id='stats_random'></a>\n",
    "## 2.5 Statistical Methods and Random Sampling\n",
    "\n",
    "NumPy also provides many statistical methods and random sampling functions:\n",
    "\n",
    "- `np.mean()`, `np.sum()`, `np.std()`, `np.var()` \n",
    "- `np.random.rand()`, `np.random.randn()`, `np.random.randint()`, etc.\n"
   ]
  },
  {
   "cell_type": "code",
   "execution_count": 22,
   "metadata": {},
   "outputs": [
    {
     "name": "stdout",
     "output_type": "stream",
     "text": [
      "Random array: [0.42180251 0.91264149 0.6964946  0.26352525 0.51998193]\n",
      "\n",
      "Random integer array:\n",
      " [[3 9 8]\n",
      " [6 3 9]\n",
      " [1 4 8]]\n",
      "Mean: 5.666666666666667\n",
      "Sum: 51\n",
      "Standard Deviation: 2.8284271247461903\n"
     ]
    }
   ],
   "source": [
    "random_arr = np.random.rand(5)  # uniform distribution in [0,1)\n",
    "print(\"Random array:\", random_arr)\n",
    "\n",
    "rand_int_arr = np.random.randint(0, 10, size=(3,3))\n",
    "print(\"\\nRandom integer array:\\n\", rand_int_arr)\n",
    "\n",
    "# Statistical methods\n",
    "print(\"Mean:\", np.mean(rand_int_arr))\n",
    "print(\"Sum:\", np.sum(rand_int_arr))\n",
    "print(\"Standard Deviation:\", np.std(rand_int_arr))\n"
   ]
  },
  {
   "cell_type": "markdown",
   "metadata": {},
   "source": [
    "<a id='pandas'></a>\n",
    "# 3. Pandas\n",
    "Pandas is an essential Python library for data manipulation and analysis. It introduces two main data structures:\n",
    "\n",
    "- **Series** (1D labeled array)\n",
    "- **DataFrame** (2D labeled table)\n",
    "\n",
    "Let's import pandas.\n"
   ]
  },
  {
   "cell_type": "code",
   "execution_count": 23,
   "metadata": {},
   "outputs": [
    {
     "name": "stdout",
     "output_type": "stream",
     "text": [
      "Pandas version: 2.0.3\n"
     ]
    }
   ],
   "source": [
    "import pandas as pd\n",
    "print(\"Pandas version:\", pd.__version__)\n"
   ]
  },
  {
   "cell_type": "markdown",
   "metadata": {},
   "source": [
    "<a id='series'></a>\n",
    "## 3.1 Series\n",
    "\n",
    "A `Series` is a one-dimensional labeled array capable of holding any data type (integers, strings, floating-point numbers, Python objects, etc.). Labels (called the index) can be specified or autmatically assigned.\n"
   ]
  },
  {
   "cell_type": "code",
   "execution_count": 24,
   "metadata": {},
   "outputs": [
    {
     "name": "stdout",
     "output_type": "stream",
     "text": [
      "Series:\n",
      " a    10\n",
      "b    20\n",
      "c    30\n",
      "d    40\n",
      "dtype: int64\n",
      "\n",
      "Value at index 'b': 20\n",
      "Value at position 2: 30\n"
     ]
    }
   ],
   "source": [
    "ser = pd.Series([10, 20, 30, 40], index=[\"a\", \"b\", \"c\", \"d\"])\n",
    "print(\"Series:\\n\", ser)\n",
    "\n",
    "# Accessing by label\n",
    "print(\"\\nValue at index 'b':\", ser[\"b\"])\n",
    "\n",
    "# Accessing by position\n",
    "print(\"Value at position 2:\", ser.iloc[2])\n"
   ]
  },
  {
   "cell_type": "markdown",
   "metadata": {},
   "source": [
    "<a id='dataframes'></a>\n",
    "## 3.2 DataFrames\n",
    "\n",
    "A `DataFrame` is a 2D labeled data structure with columns of potentially different types. You can think of it as a spreadsheet or SQL table in Python.\n",
    "\n",
    "**Ways to create a DataFrame**:\n",
    "1. From a dictionary of lists\n",
    "2. From a NumPy array\n",
    "3. From another DataFrame\n",
    "4. From external data sources (CSV, Excel, databases, etc.)\n"
   ]
  },
  {
   "cell_type": "code",
   "execution_count": 25,
   "metadata": {},
   "outputs": [
    {
     "name": "stdout",
     "output_type": "stream",
     "text": [
      "DataFrame from dictionary of lists:\n",
      "       Name  Age     City\n",
      "0    Alice   25       NY\n",
      "1      Bob   30       LA\n",
      "2  Charlie   35  Chicago\n",
      "\n",
      "DataFrame from a NumPy array:\n",
      "     A   B   C\n",
      "0  62   8  48\n",
      "1   8  99  26\n",
      "2  69  39  33\n"
     ]
    }
   ],
   "source": [
    "# Dictionary of lists\n",
    "data = {\n",
    "    \"Name\": [\"Alice\", \"Bob\", \"Charlie\"],\n",
    "    \"Age\": [25, 30, 35],\n",
    "    \"City\": [\"NY\", \"LA\", \"Chicago\"]\n",
    "}\n",
    "df = pd.DataFrame(data)\n",
    "print(\"DataFrame from dictionary of lists:\\n\", df)\n",
    "\n",
    "# Creating from a NumPy array\n",
    "arr = np.random.randint(0, 100, (3, 3))\n",
    "df2 = pd.DataFrame(arr, columns=[\"A\", \"B\", \"C\"])\n",
    "print(\"\\nDataFrame from a NumPy array:\\n\", df2)\n"
   ]
  },
  {
   "cell_type": "markdown",
   "metadata": {},
   "source": [
    "<a id='io'></a>\n",
    "## 3.3 Importing and Exporting Data\n",
    "\n",
    "Pandas makes it easy to load data from files (CSV, Excel, JSON, etc.) and also export data to various formats.\n",
    "\n",
    "- `pd.read_csv(\"file.csv\")`\n",
    "- `pd.read_excel(\"file.xlsx\")`\n",
    "- `df.to_csv(\"output.csv\")`\n",
    "- `df.to_excel(\"output.xlsx\")`\n",
    "\n",
    "**Note**: You might need to install extra packages for Excel support: `pip install openpyxl xlrd`.\n"
   ]
  },
  {
   "cell_type": "code",
   "execution_count": 26,
   "metadata": {},
   "outputs": [],
   "source": [
    "# Example (assuming you have a CSV file named 'data.csv'):\n",
    "# df = pd.read_csv(\"data.csv\")\n",
    "\n",
    "# Save a DataFrame to CSV\n",
    "# df.to_csv(\"output.csv\", index=False)\n"
   ]
  },
  {
   "cell_type": "markdown",
   "metadata": {},
   "source": [
    "<a id='data_selection'></a>\n",
    "## 3.4 Data Selection and Filtering\n",
    "\n",
    "With Pandas, you can select specific rows and columns using:\n",
    "- `df[\"column_name\"]` or `df.column_name`\n",
    "- `df.loc[row_label, column_label]` (label-based)\n",
    "- `df.iloc[row_index, column_index]` (integer position-based)\n",
    "- Boolean indexing for filtering\n"
   ]
  },
  {
   "cell_type": "code",
   "execution_count": 27,
   "metadata": {},
   "outputs": [
    {
     "name": "stdout",
     "output_type": "stream",
     "text": [
      "Name column:\n",
      " 0      Alice\n",
      "1        Bob\n",
      "2    Charlie\n",
      "3      David\n",
      "Name: Name, dtype: object\n",
      "\n",
      "Name and Age columns:\n",
      "       Name  Age\n",
      "0    Alice   25\n",
      "1      Bob   30\n",
      "2  Charlie   35\n",
      "3    David   40\n",
      "\n",
      "Row with label 1 (Bob):\n",
      " Name     Bob\n",
      "Age       30\n",
      "City      LA\n",
      "Score     92\n",
      "Name: 1, dtype: object\n",
      "\n",
      "Row at index 2, columns 0 and 1:\n",
      " Name    Charlie\n",
      "Age          35\n",
      "Name: 2, dtype: object\n",
      "\n",
      "Rows where Age > 30:\n",
      "       Name  Age     City  Score\n",
      "2  Charlie   35  Chicago     79\n",
      "3    David   40    Miami     95\n"
     ]
    }
   ],
   "source": [
    "# Create a sample DataFrame\n",
    "data = {\n",
    "    \"Name\": [\"Alice\", \"Bob\", \"Charlie\", \"David\"],\n",
    "    \"Age\": [25, 30, 35, 40],\n",
    "    \"City\": [\"NY\", \"LA\", \"Chicago\", \"Miami\"],\n",
    "    \"Score\": [88, 92, 79, 95]\n",
    "}\n",
    "df = pd.DataFrame(data)\n",
    "\n",
    "# Selecting a single column\n",
    "print(\"Name column:\\n\", df[\"Name\"])\n",
    "\n",
    "# Selecting multiple columns\n",
    "print(\"\\nName and Age columns:\\n\", df[[\"Name\", \"Age\"]])\n",
    "\n",
    "# Selecting rows by label (loc)\n",
    "print(\"\\nRow with label 1 (Bob):\\n\", df.loc[1])\n",
    "\n",
    "# Selecting rows and columns by integer position (iloc)\n",
    "print(\"\\nRow at index 2, columns 0 and 1:\\n\", df.iloc[2, [0,1]])\n",
    "\n",
    "# Filtering\n",
    "print(\"\\nRows where Age > 30:\\n\", df[df[\"Age\"] > 30])\n"
   ]
  },
  {
   "cell_type": "markdown",
   "metadata": {},
   "source": [
    "<a id='missing_data'></a>\n",
    "## 3.5 Handling Missing Data\n",
    "\n",
    "Missing data in Pandas is typically represented by `NaN` (Not a Number). Common methods:\n",
    "- `df.dropna()`: drop rows with missing values\n",
    "- `df.fillna(value)`: fill missing values with a specific value\n",
    "- `df.isna()`: returns a boolean DataFrame indicating missing values\n"
   ]
  },
  {
   "cell_type": "code",
   "execution_count": 28,
   "metadata": {},
   "outputs": [
    {
     "name": "stdout",
     "output_type": "stream",
     "text": [
      "DataFrame with NaNs:\n",
      "      A    B\n",
      "0  1.0  NaN\n",
      "1  NaN  2.0\n",
      "2  3.0  3.0\n",
      "3  4.0  NaN\n",
      "\n",
      "Drop rows with NaNs:\n",
      "      A    B\n",
      "2  3.0  3.0\n",
      "\n",
      "Fill NaNs with 0:\n",
      "      A    B\n",
      "0  1.0  0.0\n",
      "1  0.0  2.0\n",
      "2  3.0  3.0\n",
      "3  4.0  0.0\n"
     ]
    }
   ],
   "source": [
    "# Sample DataFrame with missing values\n",
    "data_with_nans = {\n",
    "    \"A\": [1, np.nan, 3, 4],\n",
    "    \"B\": [np.nan, 2, 3, np.nan]\n",
    "}\n",
    "df_nans = pd.DataFrame(data_with_nans)\n",
    "print(\"DataFrame with NaNs:\\n\", df_nans)\n",
    "\n",
    "# Dropping rows with NaNs\n",
    "df_dropped = df_nans.dropna()\n",
    "print(\"\\nDrop rows with NaNs:\\n\", df_dropped)\n",
    "\n",
    "# Filling NaNs with a fixed value\n",
    "df_filled = df_nans.fillna(0)\n",
    "print(\"\\nFill NaNs with 0:\\n\", df_filled)\n"
   ]
  },
  {
   "cell_type": "markdown",
   "metadata": {},
   "source": [
    "<a id='groupby'></a>\n",
    "## 3.6 Grouping and Aggregation\n",
    "\n",
    "`groupby()` in Pandas is used for splitting the data into groups, applying a function, and combining the results.\n",
    "\n",
    "```python\n",
    "df.groupby(\"column_name\").agg(functions)\n"
   ]
  },
  {
   "cell_type": "code",
   "execution_count": 29,
   "metadata": {},
   "outputs": [
    {
     "name": "stdout",
     "output_type": "stream",
     "text": [
      "Teams DataFrame:\n",
      "   Team  Points  Assists\n",
      "0    A      10        5\n",
      "1    A      15        3\n",
      "2    B      20        8\n",
      "3    B      25        7\n",
      "4    C      30        2\n",
      "5    C      35        4\n",
      "\n",
      "Grouped by 'Team':\n",
      "       Points  Assists\n",
      "Team                 \n",
      "A       12.5        8\n",
      "B       22.5       15\n",
      "C       32.5        6\n"
     ]
    }
   ],
   "source": [
    "# Sample data\n",
    "data = {\n",
    "    \"Team\": [\"A\", \"A\", \"B\", \"B\", \"C\", \"C\"],\n",
    "    \"Points\": [10, 15, 20, 25, 30, 35],\n",
    "    \"Assists\": [5, 3, 8, 7, 2, 4]\n",
    "}\n",
    "df_teams = pd.DataFrame(data)\n",
    "print(\"Teams DataFrame:\\n\", df_teams)\n",
    "\n",
    "grouped = df_teams.groupby(\"Team\").agg({\"Points\": \"mean\", \"Assists\": \"sum\"})\n",
    "print(\"\\nGrouped by 'Team':\\n\", grouped)"
   ]
  },
  {
   "cell_type": "markdown",
   "metadata": {},
   "source": [
    "<a id='merging'></a>\n",
    "## 3.7 Merging, Joining, and Concatenating\n",
    "\n",
    "- **Merging**: Combines DataFrames based on a common key.\n",
    "```python\n",
    "pd.merge(df1, df2, on=\"key\")\n",
    "df1.join(df2)\n",
    "pd.concat([df1, df2], axis=0)"
   ]
  },
  {
   "cell_type": "code",
   "execution_count": 32,
   "metadata": {},
   "outputs": [
    {
     "name": "stdout",
     "output_type": "stream",
     "text": [
      "Merged DataFrame:\n",
      "    key   A   B\n",
      "0    1  A1  B1\n",
      "1    2  A2  B2\n",
      "\n",
      "Concatenated DataFrame (vertical):\n",
      "    key    A    B\n",
      "0    1   A1  NaN\n",
      "1    2   A2  NaN\n",
      "2    3   A3  NaN\n",
      "3    1  NaN   B1\n",
      "4    2  NaN   B2\n",
      "5    4  NaN   B4\n"
     ]
    }
   ],
   "source": [
    "df1 = pd.DataFrame({\n",
    "    \"key\": [1, 2, 3],\n",
    "    \"A\": [\"A1\", \"A2\", \"A3\"]\n",
    "})\n",
    "df2 = pd.DataFrame({\n",
    "    \"key\": [1, 2, 4],\n",
    "    \"B\": [\"B1\", \"B2\", \"B4\"]\n",
    "})\n",
    "merged = pd.merge(df1, df2, on=\"key\")\n",
    "print(\"Merged DataFrame:\\n\", merged)\n",
    "\n",
    "# Concatenate example (vertical)\n",
    "concatenated = pd.concat([df1, df2], axis=0, ignore_index=True)\n",
    "print(\"\\nConcatenated DataFrame (vertical):\\n\", concatenated)"
   ]
  },
  {
   "cell_type": "markdown",
   "metadata": {},
   "source": [
    "<a id='matplotlib'></a>\n",
    "# 4. Matplotlib\n",
    "Matplotlib is the primary plotting library in Python, enabling you to create static, animated, and interactive visualizations.\n",
    "\n",
    "We'll import the pyplot module from Matplotlib, typically imported as `plt`.\n"
   ]
  },
  {
   "cell_type": "code",
   "execution_count": 33,
   "metadata": {},
   "outputs": [
    {
     "name": "stdout",
     "output_type": "stream",
     "text": [
      "Matplotlib imported.\n"
     ]
    }
   ],
   "source": [
    "import matplotlib.pyplot as plt\n",
    "# This line makes plots appear inside the notebook (for Jupyter notebooks)\n",
    "%matplotlib inline\n",
    "print(\"Matplotlib imported.\")\n"
   ]
  },
  {
   "cell_type": "markdown",
   "metadata": {},
   "source": [
    "<a id='basic_plot'></a>\n",
    "## 4.1 Basic Plotting\n",
    "\n",
    "To create a simple line plot:\n",
    "```python\n",
    "plt.plot(x, y)\n",
    "plt.show()\n"
   ]
  },
  {
   "cell_type": "code",
   "execution_count": 34,
   "metadata": {},
   "outputs": [
    {
     "data": {
      "image/png": "[encoded data removed]",
      "text/plain": [
       "<Figure size 640x480 with 1 Axes>"
      ]
     },
     "metadata": {},
     "output_type": "display_data"
    }
   ],
   "source": [
    "# Example line plot\n",
    "x = np.linspace(0, 2*np.pi, 100)\n",
    "y = np.sin(x)\n",
    "\n",
    "plt.plot(x, y, label=\"sin(x)\")\n",
    "plt.title(\"Sine Wave\")\n",
    "plt.xlabel(\"x\")\n",
    "plt.ylabel(\"sin(x)\")\n",
    "plt.legend()\n",
    "plt.show()"
   ]
  },
  {
   "cell_type": "markdown",
   "metadata": {},
   "source": [
    "<a id='customize_plot'></a>\n",
    "## 4.2 Customizing Plots\n",
    "\n",
    "You can customize:\n",
    "- Line styles (e.g., `'-', '--', '-.', ':'`)\n",
    "- Colors (`'r', 'g', 'b', 'k'`)\n",
    "- Markers (`'o', '^', 's', '*'`)\n",
    "\n",
    "Examples of customization parameters: `color`, `linewidth`, `marker`, `markersize`, etc.\n"
   ]
  },
  {
   "cell_type": "code",
   "execution_count": 35,
   "metadata": {},
   "outputs": [
    {
     "data": {
      "image/png": "[encoded data removed]",
      "text/plain": [
       "<Figure size 640x480 with 1 Axes>"
      ]
     },
     "metadata": {},
     "output_type": "display_data"
    }
   ],
   "source": [
    "x = np.linspace(0, 5, 50)\n",
    "y1 = x\n",
    "y2 = x**2\n",
    "\n",
    "plt.plot(x, y1, color='red', linewidth=2, marker='o', label=\"Linear\")\n",
    "plt.plot(x, y2, color='blue', linestyle='--', label=\"Quadratic\")\n",
    "plt.title(\"Customized Plot\")\n",
    "plt.xlabel(\"X\")\n",
    "plt.ylabel(\"Y\")\n",
    "plt.legend()\n",
    "plt.grid(True)\n",
    "plt.show()\n"
   ]
  },
  {
   "cell_type": "markdown",
   "metadata": {},
   "source": [
    "<a id='multiple_plots'></a>\n",
    "## 4.3 Multiple Plots\n",
    "\n",
    "You can create subplots using `plt.subplots(rows, cols)`.\n",
    "\n",
    "```python\n",
    "fig, axes = plt.subplots(1, 2)  # one row, two columns\n",
    "axes[0].plot(x, y1)\n",
    "axes[1].plot(x, y2)\n"
   ]
  },
  {
   "cell_type": "code",
   "execution_count": 36,
   "metadata": {},
   "outputs": [
    {
     "data": {
      "image/png": "[encoded data removed]",
      "text/plain": [
       "<Figure size 1000x400 with 2 Axes>"
      ]
     },
     "metadata": {},
     "output_type": "display_data"
    }
   ],
   "source": [
    "x = np.linspace(0, 5, 50)\n",
    "y1 = np.sin(x)\n",
    "y2 = np.cos(x)\n",
    "\n",
    "fig, axes = plt.subplots(1, 2, figsize=(10,4))\n",
    "\n",
    "axes[0].plot(x, y1, color='g')\n",
    "axes[0].set_title(\"Sine\")\n",
    "\n",
    "axes[1].plot(x, y2, color='r')\n",
    "axes[1].set_title(\"Cosine\")\n",
    "\n",
    "plt.tight_layout()\n",
    "plt.show()"
   ]
  },
  {
   "cell_type": "markdown",
   "metadata": {},
   "source": [
    "<a id='analysis_example'></a>\n",
    "# 5. Integrated Data Analysis Example\n",
    "This section demonstrates a mini data analysis workflow using **NumPy**, **Pandas**, and **Matplotlib**.\n",
    "\n",
    "We'll go through:\n",
    "1. [Loading Data](#loading_data)\n",
    "2. [Exploratory Data Analysis](#exploratory_da)\n",
    "3. [Data Cleaning](#data_cleaning)\n",
    "4. [Visualization](#visualization)\n",
    "5. [Conclusion](#conclusion)\n"
   ]
  },
  {
   "cell_type": "code",
   "execution_count": 37,
   "metadata": {},
   "outputs": [
    {
     "name": "stdout",
     "output_type": "stream",
     "text": [
      "Head of the simulated sales data:\n"
     ]
    },
    {
     "data": {
      "text/html": [
       "<div>\n",
       "<style scoped>\n",
       "    .dataframe tbody tr th:only-of-type {\n",
       "        vertical-align: middle;\n",
       "    }\n",
       "\n",
       "    .dataframe tbody tr th {\n",
       "        vertical-align: top;\n",
       "    }\n",
       "\n",
       "    .dataframe thead th {\n",
       "        text-align: right;\n",
       "    }\n",
       "</style>\n",
       "<table border=\"1\" class=\"dataframe\">\n",
       "  <thead>\n",
       "    <tr style=\"text-align: right;\">\n",
       "      <th></th>\n",
       "      <th>Date</th>\n",
       "      <th>Sales</th>\n",
       "      <th>Customers</th>\n",
       "      <th>Discount</th>\n",
       "      <th>Revenue</th>\n",
       "    </tr>\n",
       "  </thead>\n",
       "  <tbody>\n",
       "    <tr>\n",
       "      <th>0</th>\n",
       "      <td>2024-01-01</td>\n",
       "      <td>97</td>\n",
       "      <td>3</td>\n",
       "      <td>15</td>\n",
       "      <td>3395</td>\n",
       "    </tr>\n",
       "    <tr>\n",
       "      <th>1</th>\n",
       "      <td>2024-01-02</td>\n",
       "      <td>167</td>\n",
       "      <td>35</td>\n",
       "      <td>15</td>\n",
       "      <td>5845</td>\n",
       "    </tr>\n",
       "    <tr>\n",
       "      <th>2</th>\n",
       "      <td>2024-01-03</td>\n",
       "      <td>117</td>\n",
       "      <td>36</td>\n",
       "      <td>0</td>\n",
       "      <td>5850</td>\n",
       "    </tr>\n",
       "    <tr>\n",
       "      <th>3</th>\n",
       "      <td>2024-01-04</td>\n",
       "      <td>153</td>\n",
       "      <td>31</td>\n",
       "      <td>15</td>\n",
       "      <td>5355</td>\n",
       "    </tr>\n",
       "    <tr>\n",
       "      <th>4</th>\n",
       "      <td>2024-01-05</td>\n",
       "      <td>59</td>\n",
       "      <td>4</td>\n",
       "      <td>0</td>\n",
       "      <td>2950</td>\n",
       "    </tr>\n",
       "  </tbody>\n",
       "</table>\n",
       "</div>"
      ],
      "text/plain": [
       "        Date  Sales  Customers  Discount  Revenue\n",
       "0 2024-01-01     97          3        15     3395\n",
       "1 2024-01-02    167         35        15     5845\n",
       "2 2024-01-03    117         36         0     5850\n",
       "3 2024-01-04    153         31        15     5355\n",
       "4 2024-01-05     59          4         0     2950"
      ]
     },
     "execution_count": 37,
     "metadata": {},
     "output_type": "execute_result"
    }
   ],
   "source": [
    "# Simulate some data\n",
    "import numpy as np\n",
    "import pandas as pd\n",
    "\n",
    "np.random.seed(0)  # For reproducibility\n",
    "\n",
    "dates = pd.date_range(\"2024-01-01\", periods=100)\n",
    "sales = np.random.randint(50, 200, size=100)\n",
    "customers = np.random.randint(1, 50, size=100)\n",
    "discount = np.random.choice([0, 5, 10, 15], size=100)\n",
    "revenue = sales * (50 - discount)  # simplistic assumption\n",
    "\n",
    "df_sales = pd.DataFrame({\n",
    "    \"Date\": dates,\n",
    "    \"Sales\": sales,\n",
    "    \"Customers\": customers,\n",
    "    \"Discount\": discount,\n",
    "    \"Revenue\": revenue\n",
    "})\n",
    "\n",
    "print(\"Head of the simulated sales data:\")\n",
    "df_sales.head()\n"
   ]
  },
  {
   "cell_type": "markdown",
   "metadata": {},
   "source": [
    "<a id='exploratory_da'></a>\n",
    "## 5.2 Exploratory Data Analysis\n"
   ]
  },
  {
   "cell_type": "code",
   "execution_count": 38,
   "metadata": {},
   "outputs": [
    {
     "name": "stdout",
     "output_type": "stream",
     "text": [
      "DataFrame info:\n",
      "<class 'pandas.core.frame.DataFrame'>\n",
      "RangeIndex: 100 entries, 0 to 99\n",
      "Data columns (total 5 columns):\n",
      " #   Column     Non-Null Count  Dtype         \n",
      "---  ------     --------------  -----         \n",
      " 0   Date       100 non-null    datetime64[ns]\n",
      " 1   Sales      100 non-null    int32         \n",
      " 2   Customers  100 non-null    int32         \n",
      " 3   Discount   100 non-null    int32         \n",
      " 4   Revenue    100 non-null    int32         \n",
      "dtypes: datetime64[ns](1), int32(4)\n",
      "memory usage: 2.5 KB\n",
      "None\n",
      "\n",
      "Summary statistics:\n",
      "                      Date       Sales   Customers    Discount      Revenue\n",
      "count                  100  100.000000  100.000000  100.000000   100.000000\n",
      "mean   2024-02-19 12:00:00  130.150000   24.830000    7.300000  5536.850000\n",
      "min    2024-01-01 00:00:00   50.000000    1.000000    0.000000  2000.000000\n",
      "25%    2024-01-25 18:00:00   91.250000   13.750000    5.000000  3858.750000\n",
      "50%    2024-02-19 12:00:00  133.000000   25.000000    5.000000  5780.000000\n",
      "75%    2024-03-15 06:00:00  169.250000   37.000000   15.000000  6903.750000\n",
      "max    2024-04-09 00:00:00  199.000000   49.000000   15.000000  9650.000000\n",
      "std                    NaN   44.147452   14.375242    5.614735  1969.599977\n",
      "\n",
      "Missing values in each column:\n",
      "Date         0\n",
      "Sales        0\n",
      "Customers    0\n",
      "Discount     0\n",
      "Revenue      0\n",
      "dtype: int64\n"
     ]
    }
   ],
   "source": [
    "# Basic info\n",
    "print(\"DataFrame info:\")\n",
    "print(df_sales.info())\n",
    "\n",
    "print(\"\\nSummary statistics:\")\n",
    "print(df_sales.describe())\n",
    "\n",
    "# Check for missing values\n",
    "print(\"\\nMissing values in each column:\")\n",
    "print(df_sales.isna().sum())\n"
   ]
  },
  {
   "cell_type": "markdown",
   "metadata": {},
   "source": [
    "<a id='data_cleaning'></a>\n",
    "## 5.3 Data Cleaning\n",
    "\n",
    "In our simulated dataset, we didn't introduce missing values or errors, but let's demonstrate a quick check and fill any imaginary missing values.\n"
   ]
  },
  {
   "cell_type": "code",
   "execution_count": 39,
   "metadata": {},
   "outputs": [],
   "source": [
    "# Suppose 'Discount' had missing values, we could fill them:\n",
    "df_sales[\"Discount\"] = df_sales[\"Discount\"].fillna(0)\n",
    "\n",
    "# In reality, you would carefully choose how to handle missing data (mean, median, mode, or domain-specific strategies)\n"
   ]
  },
  {
   "cell_type": "markdown",
   "metadata": {},
   "source": [
    "<a id='visualization'></a>\n",
    "## 5.4 Visualization\n"
   ]
  },
  {
   "cell_type": "code",
   "execution_count": 40,
   "metadata": {},
   "outputs": [
    {
     "data": {
      "image/png": "[encoded data removed]",
      "text/plain": [
       "<Figure size 1000x600 with 1 Axes>"
      ]
     },
     "metadata": {},
     "output_type": "display_data"
    },
    {
     "data": {
      "image/png": "[encoded data removed]",
      "text/plain": [
       "<Figure size 800x500 with 1 Axes>"
      ]
     },
     "metadata": {},
     "output_type": "display_data"
    }
   ],
   "source": [
    "import matplotlib.pyplot as plt\n",
    "\n",
    "# Line plot of Sales over time\n",
    "plt.figure(figsize=(10,6))\n",
    "plt.plot(df_sales[\"Date\"], df_sales[\"Sales\"], label=\"Sales\")\n",
    "plt.title(\"Sales Over Time\")\n",
    "plt.xlabel(\"Date\")\n",
    "plt.ylabel(\"Sales\")\n",
    "plt.legend()\n",
    "plt.show()\n",
    "\n",
    "# Scatter plot of Customers vs. Revenue\n",
    "plt.figure(figsize=(8,5))\n",
    "plt.scatter(df_sales[\"Customers\"], df_sales[\"Revenue\"], alpha=0.5)\n",
    "plt.title(\"Customers vs. Revenue\")\n",
    "plt.xlabel(\"Customers\")\n",
    "plt.ylabel(\"Revenue\")\n",
    "plt.show()\n"
   ]
  },
  {
   "cell_type": "markdown",
   "metadata": {},
   "source": [
    "<a id='conclusion'></a>\n",
    "## 5.5 Conclusion\n",
    "\n",
    "In this mini-project, we:\n",
    "\n",
    "1. Generated a synthetic dataset using NumPy.\n",
    "2. Loaded it into a pandas DataFrame.\n",
    "3. Explored summary statistics.\n",
    "4. Handled missing data (illustrative).\n",
    "5. Visualized relationships using Matplotlib.\n",
    "\n",
    "This workflow is typical in data analysis:\n",
    "- **Import Data** -> **Clean/Transform Data** -> **Explore** -> **Model/Visualize** -> **Communicate Results**.\n",
    "\n",
    "---\n",
    "\n",
    "## Final Remarks\n",
    "\n",
    "- **NumPy** is great for numerical computing and linear algebra.\n",
    "- **Pandas** excels at data manipulation and data wrangling.\n",
    "- **Matplotlib** provides powerful, customizable visualizations.\n",
    "\n",
    "With these tools, you can handle a wide variety of data analysis tasks in Python. Continue exploring by integrating other libraries like **scikit-learn** for machine learning or **seaborn** for advanced statistical visualization. \n",
    "\n",
    "Happy analyzing!\n"
   ]
  },
  {
   "cell_type": "markdown",
   "metadata": {},
   "source": [
    "# ______________________________________________________________________________________"
   ]
  },
  {
   "cell_type": "markdown",
   "metadata": {
    "vscode": {
     "languageId": "plaintext"
    }
   },
   "source": [
    "# Tips & Tricks\n",
    "\n",
    "Below is a standalone notebook containing various tips, tricks, and best practices for Python, NumPy, Pandas, and Matplotlib. These insights will help you write more efficient, clean, and robust code for data analysis.\n",
    "\n",
    "## Table of Contents\n",
    "1. [Python Tips & Tricks](#python_tips)\n",
    "   - 1.1 [List Comprehensions](#list_comprehensions)\n",
    "   - 1.2 [Enumerate and Zip](#enumerate_zip)\n",
    "   - 1.3 [Slicing and Extended Slicing](#slicing)\n",
    "2. [Pandas Tips & Tricks](#pandas_tips)\n",
    "   - 2.1 [Avoiding Chained Indexing](#chained_indexing)\n",
    "   - 2.2 [Copy vs. View](#copy_view)\n",
    "   - 2.3 [Boolean Indexing](#boolean_indexing)\n",
    "   - 2.4 [Vectorized String Operations](#vectorized_string_ops)\n",
    "   - 2.5 [Apply, Map, and Applymap](#apply_map_applymap)\n",
    "   - 2.6 [Using `inplace=True` vs. Assigning Back](#inplace)\n",
    "   - 2.7 [GroupBy with Multiple Aggregations](#groupby_multiagg)\n",
    "   - 2.8 [Pivot Tables and Crosstabs](#pivot_crosstab)\n",
    "   - 2.9 [Merging on Multiple Keys](#merging_multi)\n",
    "   - 2.10 [Performance Boosting Tips](#pandas_performance)\n",
    "3. [NumPy Tips & Tricks](#numpy_tips)\n",
    "   - 3.1 [Broadcasting](#broadcasting)\n",
    "   - 3.2 [Boolean Masking](#boolean_masking)\n",
    "   - 3.3 [Reshaping and Transposing](#reshape_transpose)\n",
    "   - 3.4 [Avoid Python Loops](#avoid_loops)\n",
    "   - 3.5 [Memory Layout (Advanced)](#memory_layout)\n",
    "4. [Matplotlib Tips & Tricks](#matplotlib_tips)\n",
    "   - 4.1 [Object-Oriented Interface](#oo_interface)\n",
    "   - 4.2 [Plot Customization](#plot_customization)\n",
    "   - 4.3 [Saving Figures](#saving_figures)\n",
    "   - 4.4 [Integrating with Pandas](#integration_pandas)\n",
    "5. [General Performance & Debugging Tips](#performance_debugging)\n",
    "   - 5.1 [IPython Magics](#ipython_magics)\n",
    "   - 5.2 [Use Virtual Environments](#virtualenvs)\n",
    "   - 5.3 [Logging vs. Printing](#logging)\n",
    "6. [Common Caveats & Gotchas](#caveats)\n",
    "\n"
   ]
  },
  {
   "cell_type": "markdown",
   "metadata": {},
   "source": [
    "<a id='python_tips'></a>\n",
    "# 1. Python Tips & Tricks\n"
   ]
  },
  {
   "cell_type": "markdown",
   "metadata": {},
   "source": [
    "<a id='list_comprehensions'></a>\n",
    "## 1.1 List Comprehensions\n",
    "\n",
    "List comprehensions provide a concise way to create lists.\n",
    "\n",
    "**Basic Example**:\n",
    "```python\n",
    "squares = [x**2 for x in range(10)]\n",
    "print(squares)  # [0, 1, 4, 9, 16, 25, 36, 49, 64, 81]\n"
   ]
  },
  {
   "cell_type": "code",
   "execution_count": 1,
   "metadata": {},
   "outputs": [
    {
     "name": "stdout",
     "output_type": "stream",
     "text": [
      "[0, 4, 16, 36, 64]\n"
     ]
    }
   ],
   "source": [
    "# With Conditions:\n",
    "even_squares = [x**2 for x in range(10) if x % 2 == 0]\n",
    "print(even_squares)  # [0, 4, 16, 36, 64]\n"
   ]
  },
  {
   "cell_type": "code",
   "execution_count": 2,
   "metadata": {},
   "outputs": [
    {
     "name": "stdout",
     "output_type": "stream",
     "text": [
      "[[0, 1, 2, 3, 4], [0, 1, 2, 3, 4], [0, 1, 2, 3, 4]]\n"
     ]
    }
   ],
   "source": [
    "# Nested List Comprehensions:\n",
    "matrix = [[j for j in range(5)] for i in range(3)]\n",
    "print(matrix)"
   ]
  },
  {
   "cell_type": "code",
   "execution_count": 4,
   "metadata": {},
   "outputs": [
    {
     "name": "stdout",
     "output_type": "stream",
     "text": [
      "{0: 0, 1: 1, 2: 4, 3: 9, 4: 16}\n"
     ]
    }
   ],
   "source": [
    "# Dictionary Comprehensions:\n",
    "my_dict = {x: x**2 for x in range(5)}\n",
    "# {0: 0, 1: 1, 2: 4, 3: 9, 4: 16}\n",
    "print(my_dict)"
   ]
  },
  {
   "cell_type": "code",
   "execution_count": 5,
   "metadata": {},
   "outputs": [],
   "source": [
    "squares_gen = (x**2 for x in range(10))"
   ]
  },
  {
   "cell_type": "markdown",
   "metadata": {},
   "source": [
    "<a id='enumerate_zip'></a>\n",
    "## 1.2 Enumerate and Zip\n",
    "\n",
    "### `enumerate()`\n",
    "Iterate over an iterable while having an **index**:\n",
    "\n",
    "```python\n",
    "names = [\"Alice\", \"Bob\", \"Charlie\"]\n",
    "for idx, name in enumerate(names, start=1):\n",
    "    print(idx, name)\n",
    "# 1 Alice\n",
    "# 2 Bob\n",
    "# 3 Charlie\n"
   ]
  },
  {
   "cell_type": "code",
   "execution_count": 6,
   "metadata": {},
   "outputs": [
    {
     "name": "stdout",
     "output_type": "stream",
     "text": [
      "1 a\n",
      "2 b\n",
      "3 c\n"
     ]
    }
   ],
   "source": [
    "list1 = [1, 2, 3]\n",
    "list2 = ['a', 'b', 'c']\n",
    "\n",
    "for num, char in zip(list1, list2):\n",
    "    print(num, char)\n",
    "# 1 a\n",
    "# 2 b\n",
    "# 3 c\n"
   ]
  },
  {
   "cell_type": "code",
   "execution_count": 7,
   "metadata": {},
   "outputs": [
    {
     "name": "stdout",
     "output_type": "stream",
     "text": [
      "1 a\n",
      "2 b\n",
      "3 c\n"
     ]
    }
   ],
   "source": [
    "# zip()\n",
    "# Iterate over multiple lists simultaneously:\n",
    "list1 = [1, 2, 3]\n",
    "list2 = ['a', 'b', 'c']\n",
    "\n",
    "for num, char in zip(list1, list2):\n",
    "    print(num, char)"
   ]
  },
  {
   "cell_type": "code",
   "execution_count": 8,
   "metadata": {},
   "outputs": [
    {
     "name": "stdout",
     "output_type": "stream",
     "text": [
      "1 => a\n",
      "2 => b\n",
      "3 => c\n"
     ]
    }
   ],
   "source": [
    "# Simple example of using zip\n",
    "num_list = [1, 2, 3]\n",
    "char_list = ['a', 'b', 'c']\n",
    "\n",
    "for number, character in zip(num_list, char_list):\n",
    "    print(f\"{number} => {character}\")"
   ]
  },
  {
   "cell_type": "markdown",
   "metadata": {},
   "source": [
    "<a id='slicing'></a>\n",
    "## 1.3 Slicing and Extended Slicing\n",
    "\n",
    "### Basic Python Slicing\n",
    "\n",
    "```python\n",
    "my_list = [0, 1, 2, 3, 4, 5, 6]\n",
    "print(my_list[1:4])   # [1, 2, 3]\n",
    "print(my_list[:4])    # [0, 1, 2, 3]\n",
    "print(my_list[3:])    # [3, 4, 5, 6]\n",
    "print(my_list[::-1])  # [6, 5, 4, 3, 2, 1, 0]\n",
    "\n",
    "my_list[-1]  # Last element\n",
    "my_list[-2]  # Second to last element\n",
    "\n"
   ]
  },
  {
   "cell_type": "code",
   "execution_count": 9,
   "metadata": {},
   "outputs": [
    {
     "name": "stdout",
     "output_type": "stream",
     "text": [
      "my_list: [0, 1, 2, 3, 4, 5, 6]\n",
      "my_list[1:4]: [1, 2, 3]\n",
      "my_list[::-1]: [6, 5, 4, 3, 2, 1, 0]\n"
     ]
    }
   ],
   "source": [
    "my_list = [0, 1, 2, 3, 4, 5, 6]\n",
    "print(\"my_list:\", my_list)\n",
    "print(\"my_list[1:4]:\", my_list[1:4])\n",
    "print(\"my_list[::-1]:\", my_list[::-1])"
   ]
  },
  {
   "cell_type": "markdown",
   "metadata": {},
   "source": [
    "<a id='pandas_tips'></a>\n",
    "# 2. Pandas Tips & Tricks\n"
   ]
  },
  {
   "cell_type": "code",
   "execution_count": 10,
   "metadata": {},
   "outputs": [
    {
     "name": "stdout",
     "output_type": "stream",
     "text": [
      "Pandas version: 2.0.3\n"
     ]
    }
   ],
   "source": [
    "import pandas as pd\n",
    "pd.set_option('display.max_columns', None)\n",
    "print(\"Pandas version:\", pd.__version__)\n"
   ]
  },
  {
   "cell_type": "markdown",
   "metadata": {},
   "source": [
    "<a id='chained_indexing'></a>\n",
    "## 2.1 Avoiding Chained Indexing\n",
    "\n",
    "Chained indexing creates a “view” rather than a copy and can produce **unexpected results**:\n",
    "\n",
    "```python\n",
    "# RISKY:\n",
    "df[df[\"col\"] == value][\"another_col\"] = new_value\n",
    "\n",
    "\n",
    "### Instead, use .loc:\n",
    "df.loc[df[\"col\"] == value, \"another_col\"] = new_value"
   ]
  },
  {
   "cell_type": "markdown",
   "metadata": {},
   "source": [
    "<a id='copy_view'></a>\n",
    "## 2.2 Copy vs. View\n",
    "\n",
    "When slicing, `DataFrame` sometimes returns a **view** into the original. To ensure independence:\n",
    "\n",
    "```python\n",
    "subset = df[df[\"col\"] > 10]           # might be a view\n",
    "subset_copy = df[df[\"col\"] > 10].copy()  # guaranteed copy"
   ]
  },
  {
   "cell_type": "markdown",
   "metadata": {},
   "source": [
    "<a id='boolean_indexing'></a>\n",
    "## 2.3 Boolean Indexing\n",
    "\n",
    "Filter rows by conditions:\n",
    "\n",
    "```python\n",
    "df_filtered = df[(df[\"Age\"] > 30) & (df[\"City\"] == \"NY\")]"
   ]
  },
  {
   "cell_type": "code",
   "execution_count": 11,
   "metadata": {},
   "outputs": [
    {
     "data": {
      "text/html": [
       "<div>\n",
       "<style scoped>\n",
       "    .dataframe tbody tr th:only-of-type {\n",
       "        vertical-align: middle;\n",
       "    }\n",
       "\n",
       "    .dataframe tbody tr th {\n",
       "        vertical-align: top;\n",
       "    }\n",
       "\n",
       "    .dataframe thead th {\n",
       "        text-align: right;\n",
       "    }\n",
       "</style>\n",
       "<table border=\"1\" class=\"dataframe\">\n",
       "  <thead>\n",
       "    <tr style=\"text-align: right;\">\n",
       "      <th></th>\n",
       "      <th>Name</th>\n",
       "      <th>Age</th>\n",
       "      <th>City</th>\n",
       "    </tr>\n",
       "  </thead>\n",
       "  <tbody>\n",
       "    <tr>\n",
       "      <th>2</th>\n",
       "      <td>Charlie</td>\n",
       "      <td>35</td>\n",
       "      <td>NY</td>\n",
       "    </tr>\n",
       "  </tbody>\n",
       "</table>\n",
       "</div>"
      ],
      "text/plain": [
       "      Name  Age City\n",
       "2  Charlie   35   NY"
      ]
     },
     "execution_count": 11,
     "metadata": {},
     "output_type": "execute_result"
    }
   ],
   "source": [
    "# Use & (and), | (or), ~ (not) instead of and, or, not for boolean operations on pandas objects.\n",
    "\n",
    "data = {\n",
    "    \"Name\": [\"Alice\", \"Bob\", \"Charlie\", \"David\"],\n",
    "    \"Age\": [25, 40, 35, 45],\n",
    "    \"City\": [\"NY\", \"LA\", \"NY\", \"Chicago\"]\n",
    "}\n",
    "df_example = pd.DataFrame(data)\n",
    "df_filtered = df_example[(df_example[\"Age\"] > 30) & (df_example[\"City\"] == \"NY\")]\n",
    "df_filtered"
   ]
  },
  {
   "cell_type": "markdown",
   "metadata": {},
   "source": [
    "<a id='vectorized_string_ops'></a>\n",
    "## 2.4 Vectorized String Operations\n",
    "\n",
    "Apply string methods to an entire column:\n",
    "```python\n",
    "df[\"Name\"].str.upper()\n",
    "df[\"Name\"].str.contains(\"A\")\n",
    "df[\"Name\"].str.split(\" \")\n"
   ]
  },
  {
   "cell_type": "code",
   "execution_count": 12,
   "metadata": {},
   "outputs": [
    {
     "data": {
      "text/html": [
       "<div>\n",
       "<style scoped>\n",
       "    .dataframe tbody tr th:only-of-type {\n",
       "        vertical-align: middle;\n",
       "    }\n",
       "\n",
       "    .dataframe tbody tr th {\n",
       "        vertical-align: top;\n",
       "    }\n",
       "\n",
       "    .dataframe thead th {\n",
       "        text-align: right;\n",
       "    }\n",
       "</style>\n",
       "<table border=\"1\" class=\"dataframe\">\n",
       "  <thead>\n",
       "    <tr style=\"text-align: right;\">\n",
       "      <th></th>\n",
       "      <th>Name</th>\n",
       "      <th>Age</th>\n",
       "      <th>City</th>\n",
       "      <th>Name_Upper</th>\n",
       "    </tr>\n",
       "  </thead>\n",
       "  <tbody>\n",
       "    <tr>\n",
       "      <th>0</th>\n",
       "      <td>Alice</td>\n",
       "      <td>25</td>\n",
       "      <td>NY</td>\n",
       "      <td>ALICE</td>\n",
       "    </tr>\n",
       "    <tr>\n",
       "      <th>1</th>\n",
       "      <td>Bob</td>\n",
       "      <td>40</td>\n",
       "      <td>LA</td>\n",
       "      <td>BOB</td>\n",
       "    </tr>\n",
       "    <tr>\n",
       "      <th>2</th>\n",
       "      <td>Charlie</td>\n",
       "      <td>35</td>\n",
       "      <td>NY</td>\n",
       "      <td>CHARLIE</td>\n",
       "    </tr>\n",
       "    <tr>\n",
       "      <th>3</th>\n",
       "      <td>David</td>\n",
       "      <td>45</td>\n",
       "      <td>Chicago</td>\n",
       "      <td>DAVID</td>\n",
       "    </tr>\n",
       "  </tbody>\n",
       "</table>\n",
       "</div>"
      ],
      "text/plain": [
       "      Name  Age     City Name_Upper\n",
       "0    Alice   25       NY      ALICE\n",
       "1      Bob   40       LA        BOB\n",
       "2  Charlie   35       NY    CHARLIE\n",
       "3    David   45  Chicago      DAVID"
      ]
     },
     "execution_count": 12,
     "metadata": {},
     "output_type": "execute_result"
    }
   ],
   "source": [
    "df_example[\"Name_Upper\"] = df_example[\"Name\"].str.upper()\n",
    "df_example"
   ]
  },
  {
   "cell_type": "markdown",
   "metadata": {},
   "source": [
    "<a id='apply_map_applymap'></a>\n",
    "## 2.5 Apply, Map, and Applymap\n",
    "\n",
    "- **`map()`**: Used on a `Series` to map each value using a function or dict:\n",
    "  ```python\n",
    "  df[\"col\"] = df[\"col\"].map({\"old_val\": \"new_val\"})\n"
   ]
  },
  {
   "cell_type": "markdown",
   "metadata": {},
   "source": [
    "apply(): Used on DataFrame rows/columns or Series for more complex logic\n",
    "```python\n",
    "df[\"new_col\"] = df.apply(lambda row: row[\"col1\"] + row[\"col2\"], axis=1)"
   ]
  },
  {
   "cell_type": "markdown",
   "metadata": {},
   "source": [
    "applymap(): Apply a function element-wise across an entire DataFrame:\n",
    "```python\n",
    "df = df.applymap(lambda x: x*2 if isinstance(x, (int, float)) else x)"
   ]
  },
  {
   "cell_type": "code",
   "execution_count": 14,
   "metadata": {},
   "outputs": [],
   "source": [
    "# df = df.applymap(lambda x: x*2 if isinstance(x, (int, float)) else x)"
   ]
  },
  {
   "cell_type": "code",
   "execution_count": 15,
   "metadata": {},
   "outputs": [
    {
     "data": {
      "text/html": [
       "<div>\n",
       "<style scoped>\n",
       "    .dataframe tbody tr th:only-of-type {\n",
       "        vertical-align: middle;\n",
       "    }\n",
       "\n",
       "    .dataframe tbody tr th {\n",
       "        vertical-align: top;\n",
       "    }\n",
       "\n",
       "    .dataframe thead th {\n",
       "        text-align: right;\n",
       "    }\n",
       "</style>\n",
       "<table border=\"1\" class=\"dataframe\">\n",
       "  <thead>\n",
       "    <tr style=\"text-align: right;\">\n",
       "      <th></th>\n",
       "      <th>Name</th>\n",
       "      <th>Age</th>\n",
       "      <th>City</th>\n",
       "      <th>Name_Upper</th>\n",
       "      <th>Age_Doubled</th>\n",
       "    </tr>\n",
       "  </thead>\n",
       "  <tbody>\n",
       "    <tr>\n",
       "      <th>0</th>\n",
       "      <td>Alice</td>\n",
       "      <td>25</td>\n",
       "      <td>NY</td>\n",
       "      <td>ALICE</td>\n",
       "      <td>50</td>\n",
       "    </tr>\n",
       "    <tr>\n",
       "      <th>1</th>\n",
       "      <td>Bob</td>\n",
       "      <td>40</td>\n",
       "      <td>LA</td>\n",
       "      <td>BOB</td>\n",
       "      <td>80</td>\n",
       "    </tr>\n",
       "    <tr>\n",
       "      <th>2</th>\n",
       "      <td>Charlie</td>\n",
       "      <td>35</td>\n",
       "      <td>NY</td>\n",
       "      <td>CHARLIE</td>\n",
       "      <td>70</td>\n",
       "    </tr>\n",
       "    <tr>\n",
       "      <th>3</th>\n",
       "      <td>David</td>\n",
       "      <td>45</td>\n",
       "      <td>Chicago</td>\n",
       "      <td>DAVID</td>\n",
       "      <td>90</td>\n",
       "    </tr>\n",
       "  </tbody>\n",
       "</table>\n",
       "</div>"
      ],
      "text/plain": [
       "      Name  Age     City Name_Upper  Age_Doubled\n",
       "0    Alice   25       NY      ALICE           50\n",
       "1      Bob   40       LA        BOB           80\n",
       "2  Charlie   35       NY    CHARLIE           70\n",
       "3    David   45  Chicago      DAVID           90"
      ]
     },
     "execution_count": 15,
     "metadata": {},
     "output_type": "execute_result"
    }
   ],
   "source": [
    "# Demonstration\n",
    "df_example[\"Age_Doubled\"] = df_example[\"Age\"].apply(lambda x: x*2)\n",
    "df_example"
   ]
  },
  {
   "cell_type": "markdown",
   "metadata": {},
   "source": [
    "<a id='inplace'></a>\n",
    "## 2.6 Using `inplace=True` vs. Assigning Back\n",
    "\n",
    "Methods like `dropna`, `drop`, `reset_index` have `inplace=True` which modifies the DataFrame directly. It's often safer to **assign back** rather than rely on `inplace=True`:\n",
    "\n",
    "```python\n",
    "df = df.dropna()\n",
    "df = df.reset_index(drop=True)\n"
   ]
  },
  {
   "cell_type": "markdown",
   "metadata": {},
   "source": [
    "<a id='groupby_multiagg'></a>\n",
    "## 2.7 GroupBy with Multiple Aggregations\n",
    "\n",
    "```python\n",
    "df.groupby(\"Team\")[\"Points\"].agg([\"mean\", \"sum\", \"max\"])"
   ]
  },
  {
   "cell_type": "markdown",
   "metadata": {},
   "source": [
    "You can also specify different functions for each column:\n",
    "```python\n",
    "df.groupby(\"Team\").agg({\n",
    "    \"Points\": \"sum\",\n",
    "    \"Assists\": \"mean\"\n",
    "})\n"
   ]
  },
  {
   "cell_type": "code",
   "execution_count": 16,
   "metadata": {},
   "outputs": [
    {
     "data": {
      "text/html": [
       "<div>\n",
       "<style scoped>\n",
       "    .dataframe tbody tr th:only-of-type {\n",
       "        vertical-align: middle;\n",
       "    }\n",
       "\n",
       "    .dataframe tbody tr th {\n",
       "        vertical-align: top;\n",
       "    }\n",
       "\n",
       "    .dataframe thead tr th {\n",
       "        text-align: left;\n",
       "    }\n",
       "\n",
       "    .dataframe thead tr:last-of-type th {\n",
       "        text-align: right;\n",
       "    }\n",
       "</style>\n",
       "<table border=\"1\" class=\"dataframe\">\n",
       "  <thead>\n",
       "    <tr>\n",
       "      <th></th>\n",
       "      <th colspan=\"2\" halign=\"left\">Points</th>\n",
       "      <th colspan=\"2\" halign=\"left\">Assists</th>\n",
       "    </tr>\n",
       "    <tr>\n",
       "      <th></th>\n",
       "      <th>mean</th>\n",
       "      <th>sum</th>\n",
       "      <th>max</th>\n",
       "      <th>sum</th>\n",
       "    </tr>\n",
       "    <tr>\n",
       "      <th>Team</th>\n",
       "      <th></th>\n",
       "      <th></th>\n",
       "      <th></th>\n",
       "      <th></th>\n",
       "    </tr>\n",
       "  </thead>\n",
       "  <tbody>\n",
       "    <tr>\n",
       "      <th>A</th>\n",
       "      <td>12.5</td>\n",
       "      <td>25</td>\n",
       "      <td>4</td>\n",
       "      <td>6</td>\n",
       "    </tr>\n",
       "    <tr>\n",
       "      <th>B</th>\n",
       "      <td>22.5</td>\n",
       "      <td>45</td>\n",
       "      <td>5</td>\n",
       "      <td>6</td>\n",
       "    </tr>\n",
       "    <tr>\n",
       "      <th>C</th>\n",
       "      <td>30.0</td>\n",
       "      <td>30</td>\n",
       "      <td>3</td>\n",
       "      <td>3</td>\n",
       "    </tr>\n",
       "  </tbody>\n",
       "</table>\n",
       "</div>"
      ],
      "text/plain": [
       "     Points     Assists    \n",
       "       mean sum     max sum\n",
       "Team                       \n",
       "A      12.5  25       4   6\n",
       "B      22.5  45       5   6\n",
       "C      30.0  30       3   3"
      ]
     },
     "execution_count": 16,
     "metadata": {},
     "output_type": "execute_result"
    }
   ],
   "source": [
    "data_g = {\n",
    "    \"Team\": [\"A\", \"A\", \"B\", \"B\", \"C\"],\n",
    "    \"Points\": [10, 15, 20, 25, 30],\n",
    "    \"Assists\": [2, 4, 5, 1, 3]\n",
    "}\n",
    "df_g = pd.DataFrame(data_g)\n",
    "df_g.groupby(\"Team\").agg({\n",
    "    \"Points\": [\"mean\", \"sum\"],\n",
    "    \"Assists\": [\"max\", \"sum\"]\n",
    "})"
   ]
  },
  {
   "cell_type": "markdown",
   "metadata": {},
   "source": [
    "<a id='pivot_crosstab'></a>\n",
    "## 2.8 Pivot Tables and Crosstabs\n",
    "\n",
    "- **Pivot Table**:\n",
    "  ```python\n",
    "  pd.pivot_table(df, values=\"Points\", index=\"Team\", columns=\"Year\", aggfunc=\"sum\")\n"
   ]
  },
  {
   "cell_type": "markdown",
   "metadata": {},
   "source": [
    "Crosstab for frequency tables:\n",
    "```python\n",
    "pd.crosstab(df[\"Team\"], df[\"Year\"])\n"
   ]
  },
  {
   "cell_type": "markdown",
   "metadata": {},
   "source": [
    "\n",
    "<a id='merging_multi'></a>\n",
    "## 2.9 Merging on Multiple Keys\n",
    "\n",
    "```python\n",
    "pd.merge(df1, df2, on=[\"key1\", \"key2\"])\n"
   ]
  },
  {
   "cell_type": "markdown",
   "metadata": {},
   "source": [
    "Or specify different column names:\n",
    "```python\n",
    "pd.merge(df1, df2, left_on=\"df1_key\", right_on=\"df2_key\")\n"
   ]
  },
  {
   "cell_type": "markdown",
   "metadata": {},
   "source": [
    "<a id='pandas_performance'></a>\n",
    "## 2.10 Performance Boosting Tips\n",
    "\n",
    "- **Category dtype** for repeated string values:\n",
    "  ```python\n",
    "  df[\"col\"] = df[\"col\"].astype(\"category\")"
   ]
  },
  {
   "cell_type": "markdown",
   "metadata": {},
   "source": [
    "**Chunk Loading for huge CSVs**:\n",
    "```python\n",
    "for chunk in pd.read_csv(\"large_file.csv\", chunksize=10000):\n",
    "    # process chunk"
   ]
  },
  {
   "cell_type": "markdown",
   "metadata": {},
   "source": [
    "**Parallelization:** Consider Dask or Polars for distributed/parallel computing if data is very large.\n"
   ]
  },
  {
   "cell_type": "markdown",
   "metadata": {},
   "source": [
    "<a id='numpy_tips'></a>\n",
    "# 3. NumPy Tips & Tricks"
   ]
  },
  {
   "cell_type": "code",
   "execution_count": 18,
   "metadata": {},
   "outputs": [
    {
     "name": "stdout",
     "output_type": "stream",
     "text": [
      "NumPy version: 1.24.3\n"
     ]
    }
   ],
   "source": [
    "import numpy as np\n",
    "print(\"NumPy version:\", np.__version__)"
   ]
  },
  {
   "cell_type": "markdown",
   "metadata": {},
   "source": [
    "<a id='broadcasting'></a>\n",
    "## 3.1 Broadcasting\n",
    "\n",
    "NumPy’s broadcasting allows arithmetic between arrays of different shapes:\n",
    "```python\n",
    "A = np.array([[1, 2, 3],\n",
    "              [4, 5, 6]])\n",
    "b = np.array([10, 20, 30])\n",
    "\n",
    "result = A + b  # b is “broadcasted” to each row\n"
   ]
  },
  {
   "cell_type": "code",
   "execution_count": 19,
   "metadata": {},
   "outputs": [
    {
     "name": "stdout",
     "output_type": "stream",
     "text": [
      "A:\n",
      " [[1 2 3]\n",
      " [4 5 6]]\n",
      "b: [10 20 30]\n",
      "A + b:\n",
      " [[11 22 33]\n",
      " [14 25 36]]\n"
     ]
    }
   ],
   "source": [
    "A = np.array([[1, 2, 3],\n",
    "              [4, 5, 6]])\n",
    "b = np.array([10, 20, 30])\n",
    "\n",
    "print(\"A:\\n\", A)\n",
    "print(\"b:\", b)\n",
    "print(\"A + b:\\n\", A + b)"
   ]
  },
  {
   "cell_type": "markdown",
   "metadata": {},
   "source": [
    "<a id='boolean_masking'></a>\n",
    "## 3.2 Boolean Masking\n",
    "\n",
    "Filter arrays by conditions:\n",
    "```python\n",
    "arr = np.array([10, 20, 30, 40, 50])\n",
    "filtered = arr[arr > 30]  # [40, 50]\n"
   ]
  },
  {
   "cell_type": "code",
   "execution_count": 20,
   "metadata": {},
   "outputs": [
    {
     "data": {
      "text/plain": [
       "array([40, 50])"
      ]
     },
     "execution_count": 20,
     "metadata": {},
     "output_type": "execute_result"
    }
   ],
   "source": [
    "arr = np.array([10, 20, 30, 40, 50])\n",
    "filtered = arr[arr > 30]\n",
    "filtered"
   ]
  },
  {
   "cell_type": "markdown",
   "metadata": {},
   "source": [
    "<a id='reshape_transpose'></a>\n",
    "## 3.3 Reshaping and Transposing\n",
    "\n",
    "- **Reshape**:\n",
    "  ```python\n",
    "  arr_1d = np.arange(12)\n",
    "  arr_2d = arr_1d.reshape((3, 4))\n"
   ]
  },
  {
   "cell_type": "markdown",
   "metadata": {},
   "source": [
    "Transpose:\n",
    "```python\n",
    "arr_t = arr_2d.T\n"
   ]
  },
  {
   "cell_type": "code",
   "execution_count": 21,
   "metadata": {},
   "outputs": [
    {
     "name": "stdout",
     "output_type": "stream",
     "text": [
      "Original array (1D):\n",
      " [ 0  1  2  3  4  5  6  7  8  9 10 11]\n",
      "\n",
      "Reshaped array (2D):\n",
      " [[ 0  1  2  3]\n",
      " [ 4  5  6  7]\n",
      " [ 8  9 10 11]]\n",
      "\n",
      "Transposed array:\n",
      " [[ 0  4  8]\n",
      " [ 1  5  9]\n",
      " [ 2  6 10]\n",
      " [ 3  7 11]]\n"
     ]
    }
   ],
   "source": [
    "arr_1d = np.arange(12)\n",
    "arr_2d = arr_1d.reshape((3, 4))\n",
    "print(\"Original array (1D):\\n\", arr_1d)\n",
    "print(\"\\nReshaped array (2D):\\n\", arr_2d)\n",
    "print(\"\\nTransposed array:\\n\", arr_2d.T)"
   ]
  },
  {
   "cell_type": "markdown",
   "metadata": {},
   "source": [
    "<a id='avoid_loops'></a>\n",
    "## 3.4 Avoid Python Loops\n",
    "\n",
    "Leverage **vectorized operations**:\n",
    "```python\n",
    "# Instead of:\n",
    "for i in range(len(arr)):\n",
    "    arr[i] = arr[i] * 2\n",
    "\n",
    "# Use:\n",
    "arr = arr * 2\n",
    "```\n",
    "This is faster and cleaner."
   ]
  },
  {
   "cell_type": "code",
   "execution_count": 22,
   "metadata": {},
   "outputs": [
    {
     "data": {
      "text/plain": [
       "array([ 2,  4,  6,  8, 10])"
      ]
     },
     "execution_count": 22,
     "metadata": {},
     "output_type": "execute_result"
    }
   ],
   "source": [
    "arr = np.array([1, 2, 3, 4, 5])\n",
    "arr = arr * 2\n",
    "arr"
   ]
  },
  {
   "cell_type": "markdown",
   "metadata": {},
   "source": [
    "<a id='memory_layout'></a>\n",
    "## 3.5 Memory Layout (Advanced)\n",
    "\n",
    "For large datasets, NumPy’s memory layout (`C_CONTIGUOUS` or `F_CONTIGUOUS`) can affect performance. Check with `arr.flags`. Generally, default (C order) is fine, but for certain operations (like column-major manipulations), `F_CONTIGUOUS` can help.\n"
   ]
  },
  {
   "cell_type": "code",
   "execution_count": 23,
   "metadata": {},
   "outputs": [
    {
     "data": {
      "text/plain": [
       "  C_CONTIGUOUS : True\n",
       "  F_CONTIGUOUS : True\n",
       "  OWNDATA : True\n",
       "  WRITEABLE : True\n",
       "  ALIGNED : True\n",
       "  WRITEBACKIFCOPY : False"
      ]
     },
     "execution_count": 23,
     "metadata": {},
     "output_type": "execute_result"
    }
   ],
   "source": [
    "arr.flags"
   ]
  },
  {
   "cell_type": "markdown",
   "metadata": {},
   "source": [
    "<a id='matplotlib_tips'></a>\n",
    "# 4. Matplotlib Tips & Tricks\n"
   ]
  },
  {
   "cell_type": "code",
   "execution_count": 25,
   "metadata": {},
   "outputs": [
    {
     "name": "stdout",
     "output_type": "stream",
     "text": [
      "Matplotlib imported.\n"
     ]
    }
   ],
   "source": [
    "import matplotlib.pyplot as plt\n",
    "%matplotlib inline\n",
    "print(\"Matplotlib imported.\")\n"
   ]
  },
  {
   "cell_type": "markdown",
   "metadata": {},
   "source": [
    "<a id='oo_interface'></a>\n",
    "## 4.1 Object-Oriented Interface\n",
    "\n",
    "Instead of `plt.plot(x, y)`, use an **axes object** for complex figures:\n",
    "\n",
    "```python\n",
    "fig, ax = plt.subplots()\n",
    "ax.plot(x, y)\n",
    "ax.set_title(\"Title\")\n",
    "ax.set_xlabel(\"X-axis\")\n",
    "ax.set_ylabel(\"Y-axis\")\n",
    "plt.show()\n"
   ]
  },
  {
   "cell_type": "code",
   "execution_count": 26,
   "metadata": {},
   "outputs": [
    {
     "data": {
      "image/png": "[encoded data removed]",
      "text/plain": [
       "<Figure size 640x480 with 1 Axes>"
      ]
     },
     "metadata": {},
     "output_type": "display_data"
    }
   ],
   "source": [
    "x = np.linspace(0, 2*np.pi, 100)\n",
    "y = np.sin(x)\n",
    "\n",
    "fig, ax = plt.subplots()\n",
    "ax.plot(x, y, label=\"Sine Wave\")\n",
    "ax.set_title(\"Sine Function\")\n",
    "ax.set_xlabel(\"x\")\n",
    "ax.set_ylabel(\"sin(x)\")\n",
    "ax.legend()\n",
    "plt.show()"
   ]
  },
  {
   "cell_type": "markdown",
   "metadata": {},
   "source": [
    "<a id='plot_customization'></a>\n",
    "## 4.2 Plot Customization\n",
    "\n",
    "- **Legend**: `ax.legend()`\n",
    "- **Grid**: `ax.grid(True)`\n",
    "- **Line properties**: `color`, `linestyle`, `linewidth`, `marker`\n",
    "- **Log scale**: `ax.set_yscale('log')`\n",
    "\n",
    "### Multiple Subplots\n",
    "```python\n",
    "fig, axes = plt.subplots(2, 2)\n",
    "axes[0, 0].plot(...)\n",
    "axes[0, 1].plot(...)\n",
    "...\n"
   ]
  },
  {
   "cell_type": "code",
   "execution_count": 27,
   "metadata": {},
   "outputs": [
    {
     "data": {
      "image/png": "[encoded data removed]",
      "text/plain": [
       "<Figure size 1000x400 with 2 Axes>"
      ]
     },
     "metadata": {},
     "output_type": "display_data"
    }
   ],
   "source": [
    "fig, axes = plt.subplots(1, 2, figsize=(10,4))\n",
    "\n",
    "x = np.linspace(0, 5, 50)\n",
    "axes[0].plot(x, x, color='red', label=\"Linear\")\n",
    "axes[0].grid(True)\n",
    "axes[0].legend()\n",
    "axes[0].set_title(\"Linear Plot\")\n",
    "\n",
    "axes[1].plot(x, x**2, color='blue', linestyle='--', label=\"Quadratic\")\n",
    "axes[1].grid(True)\n",
    "axes[1].legend()\n",
    "axes[1].set_title(\"Quadratic Plot\")\n",
    "\n",
    "plt.tight_layout()\n",
    "plt.show()"
   ]
  },
  {
   "cell_type": "markdown",
   "metadata": {},
   "source": [
    "<a id='saving_figures'></a>\n",
    "## 4.3 Saving Figures\n",
    "\n",
    "Use:\n",
    "```python\n",
    "plt.savefig(\"filename.png\", dpi=300, bbox_inches='tight')\n"
   ]
  },
  {
   "cell_type": "code",
   "execution_count": 28,
   "metadata": {},
   "outputs": [],
   "source": [
    "# Example (not saving here due to environment):\n",
    "# fig.savefig(\"my_plot.png\", dpi=300, bbox_inches='tight')"
   ]
  },
  {
   "cell_type": "markdown",
   "metadata": {},
   "source": [
    "<a id='integration_pandas'></a>\n",
    "## 4.4 Integrating with Pandas\n",
    "\n",
    "Pandas `DataFrame` objects have built-in `.plot()` methods that wrap Matplotlib:\n",
    "```python\n",
    "df[\"column\"].plot(kind=\"hist\")\n",
    "df.plot(x=\"col1\", y=\"col2\", kind=\"scatter\")\n",
    "df.plot(kind=\"bar\")\n"
   ]
  },
  {
   "cell_type": "code",
   "execution_count": 29,
   "metadata": {},
   "outputs": [
    {
     "data": {
      "image/png": "[encoded data removed]",
      "text/plain": [
       "<Figure size 640x480 with 1 Axes>"
      ]
     },
     "metadata": {},
     "output_type": "display_data"
    }
   ],
   "source": [
    "# Quick example\n",
    "df_example.plot(x=\"Name\", y=\"Age\", kind=\"bar\", title=\"Age by Name\")\n",
    "plt.ylabel(\"Age\")\n",
    "plt.show()"
   ]
  },
  {
   "cell_type": "markdown",
   "metadata": {},
   "source": [
    "<a id='performance_debugging'></a>\n",
    "# 5. General Performance & Debugging Tips\n"
   ]
  },
  {
   "cell_type": "markdown",
   "metadata": {},
   "source": [
    "<a id='ipython_magics'></a>\n",
    "## 5.1 IPython Magics\n",
    "\n",
    "- **`%timeit`**: measure average execution time in a loop.\n",
    "- **`%memit`** (from `memory_profiler`): measure memory usage.\n",
    "- **`%debug`**: drop into debugger after an exception.\n",
    "- **`%lprun`** (from `line_profiler`): line-by-line profiling.\n",
    "\n",
    "**Example**:\n",
    "```python\n",
    "%%timeit\n",
    "x = [i**2 for i in range(10_000)]\n"
   ]
  },
  {
   "cell_type": "markdown",
   "metadata": {},
   "source": [
    "<a id='virtualenvs'></a>\n",
    "## 5.2 Use Virtual Environments\n",
    "\n",
    "Keep dependencies organized with `venv` or `conda`:\n",
    "```bash\n",
    "python -m venv myenv\n",
    "source myenv/bin/activate  # Linux/Mac\n",
    ".\\myenv\\Scripts\\activate   # Windows\n",
    "pip install numpy pandas matplotlib"
   ]
  },
  {
   "cell_type": "markdown",
   "metadata": {},
   "source": [
    "<a id='logging'></a>\n",
    "## 5.3 Logging vs. Printing\n",
    "\n",
    "For larger projects, **`logging`** is more flexible than plain `print()` statements. It lets you set logging levels (DEBUG, INFO, WARNING, etc.) and direct output to files or consoles."
   ]
  },
  {
   "cell_type": "markdown",
   "metadata": {},
   "source": [
    "<a id='caveats'></a>\n",
    "# 6. Common Caveats & Gotchas\n",
    "\n",
    "1. **Integer Division**: In Python 3, `/` is floating-point division, `//` is integer (floor) division.\n",
    "2. **Mutable Default Arguments**:\n",
    "   ```python\n",
    "   def bad_func(data=[]):  # BAD\n",
    "       ...\n",
    "\n",
    "   def good_func(data=None):\n",
    "    if data is None:\n",
    "        data = []\n",
    "        ...\n",
    "    ```\n",
    "3. Off-by-One Errors in slicing (the end index is exclusive).\n",
    "4. Working with Large DataFrames: Beware of memory usage and performance. Consider chunking or specialized libraries.\n",
    "5. Chained Indexing in Pandas: Use .loc to avoid SettingWithCopyWarning."
   ]
  },
  {
   "cell_type": "markdown",
   "metadata": {},
   "source": [
    "```python\n",
    "\n"
   ]
  },
  {
   "cell_type": "markdown",
   "metadata": {},
   "source": [
    "# Additional Recommendations & Focus Areas\n",
    "\n",
    "Below is a standalone notebook covering additional areas you might want to focus on as you continue to develop your data analysis skills in Python. Consider these **advanced** or **complementary** topics that can further enhance your workflow.\n",
    "\n",
    "## Table of Contents\n",
    "1. [Advanced Pandas Techniques](#advanced_pandas)\n",
    "2. [Performance & Optimization](#performance_opt)\n",
    "3. [Data Visualization Beyond Matplotlib](#viz_beyond)\n",
    "4. [Time Series Analysis](#time_series)\n",
    "5. [Machine Learning Overview](#machine_learning)\n",
    "6. [Project Structure & Best Practices](#project_structure)\n",
    "7. [Additional Resources](#resources)\n"
   ]
  },
  {
   "cell_type": "markdown",
   "metadata": {},
   "source": [
    "<a id='advanced_pandas'></a>\n",
    "# 1. Advanced Pandas Techniques"
   ]
  },
  {
   "cell_type": "markdown",
   "metadata": {},
   "source": [
    "While Pandas is already a powerhouse for data manipulation, here are some advanced or often overlooked features:\n",
    "\n",
    "- **`query()` Method**: Filter DataFrames using a string expression instead of boolean indexing.\n",
    "  ```python\n",
    "  df.query(\"Age > 30 and City == 'NY'\")\n",
    "  ```\n",
    "*Explode Columns:* For columns containing lists or arrays, df.explode(\"col\") can split these into multiple rows.\n",
    "\n",
    "*Window Functions:* rolling(), expanding(), and ewm() for running totals, moving averages, exponential weights, etc.\n",
    "```python\n",
    "df[\"rolling_mean\"] = df[\"Sales\"].rolling(window=7).mean()\n"
   ]
  },
  {
   "cell_type": "markdown",
   "metadata": {},
   "source": [
    "**Categoricals:** Converting repeated string columns to category type can save memory and speed up operations (particularly merges & groupbys).\n",
    "```python\n",
    "df[\"city\"] = df[\"city\"].astype(\"category\")\n",
    "```\n",
    "\n",
    "**Sparse Data:** For mostly zeros or missing values, Pandas supports SparseDtype, which can help store large, sparse dataframes more efficiently."
   ]
  },
  {
   "cell_type": "markdown",
   "metadata": {},
   "source": [
    "**.pipe() Method:** Chain operations in a more functionally composed style\n",
    "\n",
    "```python\n",
    "def clean_data(df):\n",
    "    ...\n",
    "def analyze_data(df):\n",
    "    ...\n",
    "\n",
    "df_clean = (df\n",
    "            .pipe(clean_data)\n",
    "            .pipe(analyze_data))\n"
   ]
  },
  {
   "cell_type": "markdown",
   "metadata": {},
   "source": [
    "<a id='performance_opt'></a>\n",
    "# 2. Performance & Optimization"
   ]
  },
  {
   "cell_type": "markdown",
   "metadata": {},
   "source": [
    "**Key aspects** to consider if your data or computations are large and performance becomes an issue:\n",
    "\n",
    "1. **Vectorization**: Always prefer vectorized Pandas/NumPy methods over Python loops.\n",
    "2. **Chunk Processing**: For very large CSV/Excel files, read data in chunks:\n",
    "   ```python\n",
    "   chunks = pd.read_csv(\"large_file.csv\", chunksize=10000)\n",
    "   for chunk in chunks:\n",
    "       # process chunk\n",
    "    ```\n",
    "3. **Dask:** A library that parallelizes NumPy and Pandas operations across multiple CPUs or clusters:\n",
    "    ```python\n",
    "    import dask.dataframe as dd\n",
    "    df_dask = dd.read_csv(\"very_large_file.csv\")\n",
    "    df_dask = df_dask[df_dask[\"col\"] > 10]\n",
    "    df_dask.compute()  # triggers parallel computation\n",
    "    ```\n",
    "4. **Polars:** A newer DataFrame library in Rust that can outperform Pandas in certain use cases. Syntax is somewhat similar to PySpark.\n",
    "5. **Cython / Numba:** If a pure Python loop is unavoidable, consider accelerating it with Cython or Numba JIT compilation.\n",
    "6. **Profiling:** Use %timeit, line profiling (%lprun), or memory profiling (%memit) to pinpoint bottlenecks."
   ]
  },
  {
   "cell_type": "markdown",
   "metadata": {},
   "source": [
    "<a id='viz_beyond'></a>\n",
    "# 3. Data Visualization Beyond Matplotlib"
   ]
  },
  {
   "cell_type": "markdown",
   "metadata": {},
   "source": [
    "Matplotlib is the foundation for plotting in Python, but you might explore:\n",
    "\n",
    "- **Seaborn**: Built on top of Matplotlib; simpler syntax for statistical plots, appealing default styles.\n",
    "  ```python\n",
    "  import seaborn as sns\n",
    "  sns.set_theme()\n",
    "  sns.barplot(data=df, x=\"col1\", y=\"col2\")\n"
   ]
  },
  {
   "cell_type": "markdown",
   "metadata": {},
   "source": [
    "**Plotly:** Interactive, web-based plots. Great for dashboards and interactive data exploration.\n",
    "```python\n",
    "import plotly.express as px\n",
    "fig = px.scatter(df, x=\"col1\", y=\"col2\", color=\"Category\")\n",
    "fig.show()\n",
    "```\n",
    "**Altair:** Declarative plotting library with a concise syntax based on the Vega-Lite grammar of graphics.\n",
    "\n",
    "**Bokeh:** Another interactive plotting library, often used for web-based dashboards.\n",
    "\n",
    "**Interactive Dashboards:** Combine these libraries with Dash (by Plotly) or Streamlit for sharing interactive analytics apps."
   ]
  },
  {
   "cell_type": "markdown",
   "metadata": {},
   "source": [
    "<a id='time_series'></a>\n",
    "# 4. Time Series Analysis"
   ]
  },
  {
   "cell_type": "markdown",
   "metadata": {},
   "source": [
    "If working with time-based data, consider:\n",
    "\n",
    "1. **Datetime Features**:\n",
    "   ```python\n",
    "   df[\"Date\"] = pd.to_datetime(df[\"Date\"])\n",
    "   df.set_index(\"Date\", inplace=True)\n",
    "   ```\n",
    "2.**Resampling**: Common for time series frequency conversion.\n",
    "   ```python\n",
    "   df.resample(\"M\").sum()  # monthly sums\n",
    "   df.resample(\"W\").mean() # weekly means\n",
    "   ```\n",
    "3.**Rolling / Expanding Windows**:\n",
    "   ```python\n",
    "   df[\"rolling_avg\"] = df[\"Value\"].rolling(window=7).mean()\n",
    "   ```\n",
    "4.**Decomposition** (Trend/Seasonality/Residual):\n",
    "   ```python\n",
    "   from statsmodels.tsa.seasonal import seasonal_decompose\n",
    "   result = seasonal_decompose(df[\"Value\"], model=\"additive\", period=7)\n",
    "   result.plot()\n",
    "   ```\n",
    "5.**ARIMA / SARIMAX**: More advanced forecasting models (statsmodels library).\n",
    "6. **Prophet (Facebook/Meta)**: A library for simpler, automatic forecasting with seasonality/trend components.\n"
   ]
  },
  {
   "cell_type": "markdown",
   "metadata": {},
   "source": [
    "<a id='machine_learning'></a>\n",
    "# 5. Machine Learning Overview"
   ]
  },
  {
   "cell_type": "markdown",
   "metadata": {},
   "source": [
    "Once you've mastered data cleaning and EDA (Exploratory Data Analysis), you might want to explore **scikit-learn** for machine learning tasks:\n",
    "\n",
    "1. **Preprocessing**: `StandardScaler`, `MinMaxScaler`, `LabelEncoder`, etc.\n",
    "2. **Modeling**: Common algorithms include\n",
    "   - Linear/Logistic Regression\n",
    "   - Decision Trees, Random Forests\n",
    "   - Gradient Boosted Trees (XGBoost, LightGBM)\n",
    "   - Support Vector Machines\n",
    "3. **Model Selection**: `GridSearchCV`, `RandomizedSearchCV` to optimize hyperparameters.\n",
    "4. **Pipelines**: Combine preprocessing and modeling steps:\n",
    "   ```python\n",
    "   from sklearn.pipeline import Pipeline\n",
    "   from sklearn.preprocessing import StandardScaler\n",
    "   from sklearn.linear_model import LogisticRegression\n",
    "   \n",
    "   pipeline = Pipeline([\n",
    "       (\"scaler\", StandardScaler()),\n",
    "       (\"clf\", LogisticRegression())\n",
    "   ])\n",
    "   pipeline.fit(X_train, y_train)\n",
    "   ```\n",
    "5. Evaluation: train_test_split, metrics like accuracy_score, roc_auc_score, mean_squared_error for regression, etc.\n",
    "\n",
    "For deep learning, libraries like TensorFlow or PyTorch are standard.\n"
   ]
  },
  {
   "cell_type": "markdown",
   "metadata": {},
   "source": [
    "\n",
    "<a id='project_structure'></a>\n",
    "# 6. Project Structure & Best Practices\n"
   ]
  },
  {
   "cell_type": "markdown",
   "metadata": {},
   "source": [
    "Organizing your code well is crucial as your projects grow:\n",
    "\n",
    "1. **Directory Layout**:\n",
    "\n",
    "my_project/ ├── data/ │ ├── raw/ │ └── processed/ ├── notebooks/ ├── src/ │ ├── init.py │ └── data_processing.py ├── tests/ ├── requirements.txt └── README.md\n",
    "\n"
   ]
  },
  {
   "cell_type": "markdown",
   "metadata": {},
   "source": [
    "2. **Version Control**: Use Git for tracking changes.\n",
    "3. **Virtual Environments**: Keep dependencies organized and reproducible.\n",
    "4. **Config Files** (optional): Use `.env` or `yaml/json` for config, rather than hard-coded paths or credentials.\n",
    "5. **Logging**: Replace `print` statements with Python’s built-in `logging` for production-level code.\n",
    "6. **PEP 8**: Follow style guidelines for cleaner, more readable code. Tools like `black`, `flake8`, `isort` help auto-format and lint your code.\n",
    "7. **Documentation**: Use docstrings, Sphinx, or MkDocs for creating project documentation.\n"
   ]
  },
  {
   "cell_type": "markdown",
   "metadata": {},
   "source": [
    "<a id='resources'></a>\n",
    "# 7. Additional Resources\n"
   ]
  },
  {
   "cell_type": "markdown",
   "metadata": {},
   "source": [
    "- **Official Documentation**: [Python](https://docs.python.org/3/), [NumPy](https://numpy.org/doc/), [Pandas](https://pandas.pydata.org/docs/), [Matplotlib](https://matplotlib.org/stable/contents.html)\n",
    "- **scikit-learn**: [https://scikit-learn.org/stable/](https://scikit-learn.org/stable/)\n",
    "- **Kaggle**: Free datasets and coding environment for data science practice: [https://www.kaggle.com/](https://www.kaggle.com/)\n",
    "- **Towards Data Science** & **Medium** blogs: Many tutorials and best-practice articles.\n",
    "- **StackOverflow**: For quick help and solutions to common errors.\n",
    "\n",
    "---\n",
    "\n",
    "## Final Thoughts\n",
    "\n",
    "These additional focus areas can help you advance from basic data analysis toward more specialized topics like time series forecasting, dashboard creation, deep learning, and production-level workflows. Keep experimenting, keep learning, and remember to profile, document, and organize your projects for maximum efficiency and maintainability.\n"
   ]
  },
  {
   "cell_type": "markdown",
   "metadata": {},
   "source": [
    "|    | Feature            | Pandas                                         | Dask                                             | FireDuck                             | DuckDB                                  |\n",
    "|---:|:-------------------|:-----------------------------------------------|:-------------------------------------------------|:-------------------------------------|:----------------------------------------|\n",
    "|  0 | Data Size          | Small to Medium (Fits in RAM)                  | Large (Scales to Disk & Clusters)                | Large (Distributed Processing)       | Medium to Large (Optimized In-Memory)   |\n",
    "|  1 | Processing         | Single-threaded                                | Multi-threaded & Distributed                     | Distributed (Rust-based engine)      | Multi-threaded (Efficient OLAP Queries) |\n",
    "|  2 | Language           | Python                                         | Python (Parallelized)                            | Rust (with Python bindings)          | C++ (with Python bindings)              |\n",
    "|  3 | Lazy Execution     | No (Eager evaluation)                          | Yes (Tasks scheduled lazily)                     | Yes                                  | Yes (Vectorized execution)              |\n",
    "|  4 | SQL Support        | No (DataFrame operations)                      | Limited SQL (via connectors)                     | Yes (Advanced SQL queries)           | Yes (Full SQL support)                  |\n",
    "|  5 | Parallelism        | No (Runs on a single core)                     | Yes (Parallel tasks across CPU & cluster)        | Yes (Optimized for AI workloads)     | Yes (Vectorized & parallel execution)   |\n",
    "|  6 | Disk-based Support | No (Must fit in RAM)                           | Yes (Out-of-Core computation)                    | Yes (Distributed execution)          | Yes (Efficient temporary storage)       |\n",
    "|  7 | Use Case           | Small datasets, standard Python data wrangling | Big data, parallel Pandas, scalable computations | Distributed big data analytics       | Fast analytical SQL queries             |\n",
    "|  8 | Integrations       | NumPy, SciPy, Matplotlib, Sklearn              | Pandas, NumPy, XGBoost, ML                       | AI & ML frameworks                   | Pandas, Arrow, Parquet, SQL             |\n",
    "|  9 | Best For           | Small, in-memory analysis                      | Scalable Pandas-like operations                  | AI-driven analytics, distributed SQL | Fast in-memory SQL queries              |"
   ]
  },
  {
   "cell_type": "markdown",
   "metadata": {},
   "source": [
    "When to Use Each Library?\n",
    "\n",
    "✅ Use Pandas If:\n",
    "Your dataset fits in RAM.\n",
    "You need fast, simple data manipulation.\n",
    "You're working on standard Pythonic DataFrame operations.\n",
    "\n",
    "✅ Use Dask If:\n",
    "You have large datasets that don’t fit in memory.\n",
    "You need parallelism for better performance.\n",
    "You're working in a distributed computing environment.\n",
    "\n",
    "✅ Use FireDuck If:\n",
    "You require high-performance, distributed SQL processing.\n",
    "You need AI & ML-friendly analytics at scale.\n",
    "You're dealing with structured and semi-structured data.\n",
    "\n",
    "✅ Use DuckDB If:\n",
    "You need blazing-fast in-memory OLAP queries.\n",
    "You want SQL analytics without a database server.\n",
    "You're analyzing large CSV, Parquet, or Arrow files in a Pandas-like interface."
   ]
  },
  {
   "cell_type": "markdown",
   "metadata": {},
   "source": [
    "**Using pandas**\n",
    "```python\n",
    "import pandas as pd\n",
    "\n",
    "df = pd.read_csv(\"data.csv\")\n",
    "df_filtered = df[df[\"age\"] > 30]\n",
    "df_grouped = df.groupby(\"category\").agg({\"sales\": \"sum\"})\n"
   ]
  },
  {
   "cell_type": "markdown",
   "metadata": {},
   "source": [
    "**Using Dask (Parallel Pandas)**\n",
    "```python\n",
    "import dask.dataframe as dd\n",
    "\n",
    "df = dd.read_csv(\"large_data.csv\")\n",
    "df_filtered = df[df[\"age\"] > 30]\n",
    "df_grouped = df.groupby(\"category\").agg({\"sales\": \"sum\"})\n",
    "df_grouped.compute()  # Trigger execution\n"
   ]
  },
  {
   "cell_type": "markdown",
   "metadata": {},
   "source": [
    "**Using FireDuck (SQL Engine)**\n",
    "```python\n",
    "from fireduck import FireDuck\n",
    "\n",
    "db = FireDuck()\n",
    "db.create_table(\"data\", \"data.parquet\")\n",
    "result = db.query(\"SELECT category, SUM(sales) FROM data GROUP BY category\")\n"
   ]
  },
  {
   "cell_type": "markdown",
   "metadata": {},
   "source": [
    "**Using DuckDB (Fast In-Memory SQL)**\n",
    "```python\n",
    "import duckdb\n",
    "\n",
    "conn = duckdb.connect()\n",
    "df = conn.execute(\"SELECT * FROM 'data.parquet' WHERE age > 30\").fetchdf()\n"
   ]
  },
  {
   "cell_type": "markdown",
   "metadata": {},
   "source": [
    "For DataFrame-like workflows → Pandas (small) or Dask (large).\n",
    "\n",
    "For SQL queries on structured data → DuckDB (fast in-memory) or FireDuck (distributed).\n",
    "\n",
    "For AI/ML-driven analytics → FireDuck.\n",
    "\n",
    "For parallel computing → Dask."
   ]
  },
  {
   "cell_type": "markdown",
   "metadata": {},
   "source": []
  }
 ],
 "metadata": {
  "kernelspec": {
   "display_name": "py38",
   "language": "python",
   "name": "python3"
  },
  "language_info": {
   "codemirror_mode": {
    "name": "ipython",
    "version": 3
   },
   "file_extension": ".py",
   "mimetype": "text/x-python",
   "name": "python",
   "nbconvert_exporter": "python",
   "pygments_lexer": "ipython3",
   "version": "3.8.20"
  }
 },
 "nbformat": 4,
 "nbformat_minor": 2
}
